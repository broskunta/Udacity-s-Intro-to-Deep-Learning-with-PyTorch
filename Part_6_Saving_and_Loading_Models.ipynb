{
  "cells": [
    {
      "cell_type": "markdown",
      "metadata": {
        "id": "view-in-github",
        "colab_type": "text"
      },
      "source": [
        "<a href=\"https://colab.research.google.com/github/broskunta/Udacity-s-Intro-to-Deep-Learning-with-PyTorch/blob/main/Part_6_Saving_and_Loading_Models.ipynb\" target=\"_parent\"><img src=\"https://colab.research.google.com/assets/colab-badge.svg\" alt=\"Open In Colab\"/></a>"
      ]
    },
    {
      "cell_type": "markdown",
      "metadata": {
        "id": "SqUpE-4ExZEY"
      },
      "source": [
        "# Saving and Loading Models\n",
        "\n",
        "In this notebook, I'll show you how to save and load models with PyTorch. This is important because you'll often want to load previously trained models to use in making predictions or to continue training on new data."
      ]
    },
    {
      "cell_type": "code",
      "source": [
        "!wget -c https://raw.githubusercontent.com/udacity/deep-learning-v2-pytorch/master/intro-to-pytorch/helper.py"
      ],
      "metadata": {
        "colab": {
          "base_uri": "https://localhost:8080/"
        },
        "id": "AUaXNP8-z95s",
        "outputId": "717b4b8c-b805-44dd-b183-9581b48c6233"
      },
      "execution_count": 1,
      "outputs": [
        {
          "output_type": "stream",
          "name": "stdout",
          "text": [
            "--2023-09-04 15:29:44--  https://raw.githubusercontent.com/udacity/deep-learning-v2-pytorch/master/intro-to-pytorch/helper.py\n",
            "Resolving raw.githubusercontent.com (raw.githubusercontent.com)... 185.199.108.133, 185.199.109.133, 185.199.110.133, ...\n",
            "Connecting to raw.githubusercontent.com (raw.githubusercontent.com)|185.199.108.133|:443... connected.\n",
            "HTTP request sent, awaiting response... 416 Range Not Satisfiable\n",
            "\n",
            "    The file is already fully retrieved; nothing to do.\n",
            "\n"
          ]
        }
      ]
    },
    {
      "cell_type": "code",
      "execution_count": 2,
      "metadata": {
        "id": "GouOBTYAxZEd"
      },
      "outputs": [],
      "source": [
        "%matplotlib inline\n",
        "%config InlineBackend.figure_format = 'retina'\n",
        "\n",
        "import matplotlib.pyplot as plt\n",
        "\n",
        "import torch\n",
        "from torch import nn\n",
        "from torch import optim\n",
        "import torch.nn.functional as F\n",
        "from torchvision import datasets, transforms\n",
        "\n",
        "import helper\n",
        "import fc_model"
      ]
    },
    {
      "cell_type": "code",
      "execution_count": 3,
      "metadata": {
        "id": "yjsqIVIexZEf"
      },
      "outputs": [],
      "source": [
        "# Define a transform to normalize the data\n",
        "transform = transforms.Compose([transforms.ToTensor(),\n",
        "                                transforms.Normalize((0.5,), (0.5,))])\n",
        "# Download and load the training data\n",
        "trainset = datasets.FashionMNIST('~/.pytorch/F_MNIST_data/', download=True, train=True, transform=transform)\n",
        "trainloader = torch.utils.data.DataLoader(trainset, batch_size=64, shuffle=True)\n",
        "\n",
        "# Download and load the test data\n",
        "testset = datasets.FashionMNIST('~/.pytorch/F_MNIST_data/', download=True, train=False, transform=transform)\n",
        "testloader = torch.utils.data.DataLoader(testset, batch_size=64, shuffle=True)"
      ]
    },
    {
      "cell_type": "markdown",
      "metadata": {
        "id": "tE-VTK_sxZEi"
      },
      "source": [
        "Here we can see one of the images."
      ]
    },
    {
      "cell_type": "code",
      "execution_count": 4,
      "metadata": {
        "colab": {
          "base_uri": "https://localhost:8080/",
          "height": 406
        },
        "id": "c3PnmD5PxZEj",
        "outputId": "c519f7fd-af6b-4dac-8285-8860b5086a88"
      },
      "outputs": [
        {
          "output_type": "display_data",
          "data": {
            "text/plain": [
              "<Figure size 640x480 with 1 Axes>"
            ],
            "image/png": "[encoded data removed]"
          },
          "metadata": {
            "image/png": {
              "width": 389,
              "height": 389
            }
          }
        }
      ],
      "source": [
        "image, label = next(iter(trainloader))\n",
        "helper.imshow(image[0,:]);"
      ]
    },
    {
      "cell_type": "markdown",
      "metadata": {
        "id": "3AWqWDEbxZEl"
      },
      "source": [
        "# Train a network\n",
        "\n",
        "To make things more concise here, I moved the model architecture and training code from the last part to a file called `fc_model`. Importing this, we can easily create a fully-connected network with `fc_model.Network`, and train the network using `fc_model.train`. I'll use this model (once it's trained) to demonstrate how we can save and load models."
      ]
    },
    {
      "cell_type": "code",
      "execution_count": 5,
      "metadata": {
        "id": "KHUNzFj4xZEl"
      },
      "outputs": [],
      "source": [
        "# Create the network, define the criterion and optimizer\n",
        "\n",
        "model = fc_model.Network(784, 10, [512, 256, 128])\n",
        "criterion = nn.NLLLoss()\n",
        "optimizer = optim.Adam(model.parameters(), lr=0.001)"
      ]
    },
    {
      "cell_type": "code",
      "execution_count": 11,
      "metadata": {
        "colab": {
          "base_uri": "https://localhost:8080/"
        },
        "id": "q3MIrso3xZEm",
        "outputId": "3f0422e9-945a-424e-ac43-17692dfd228d"
      },
      "outputs": [
        {
          "output_type": "stream",
          "name": "stdout",
          "text": [
            "Epoch: 1/2..  Training Loss: 2.313..  Test Loss: 2.307..  Test Accuracy: 0.038\n",
            "Epoch: 1/2..  Training Loss: 2.310..  Test Loss: 2.307..  Test Accuracy: 0.037\n",
            "Epoch: 1/2..  Training Loss: 2.309..  Test Loss: 2.307..  Test Accuracy: 0.038\n",
            "Epoch: 1/2..  Training Loss: 2.312..  Test Loss: 2.307..  Test Accuracy: 0.038\n",
            "Epoch: 1/2..  Training Loss: 2.311..  Test Loss: 2.307..  Test Accuracy: 0.037\n",
            "Epoch: 1/2..  Training Loss: 2.310..  Test Loss: 2.307..  Test Accuracy: 0.038\n",
            "Epoch: 1/2..  Training Loss: 2.310..  Test Loss: 2.307..  Test Accuracy: 0.038\n",
            "Epoch: 1/2..  Training Loss: 2.315..  Test Loss: 2.307..  Test Accuracy: 0.038\n",
            "Epoch: 1/2..  Training Loss: 2.310..  Test Loss: 2.307..  Test Accuracy: 0.037\n",
            "Epoch: 1/2..  Training Loss: 2.311..  Test Loss: 2.307..  Test Accuracy: 0.037\n",
            "Epoch: 1/2..  Training Loss: 2.309..  Test Loss: 2.307..  Test Accuracy: 0.037\n",
            "Epoch: 1/2..  Training Loss: 2.311..  Test Loss: 2.307..  Test Accuracy: 0.037\n",
            "Epoch: 1/2..  Training Loss: 2.308..  Test Loss: 2.307..  Test Accuracy: 0.038\n",
            "Epoch: 1/2..  Training Loss: 2.308..  Test Loss: 2.307..  Test Accuracy: 0.039\n",
            "Epoch: 1/2..  Training Loss: 2.312..  Test Loss: 2.307..  Test Accuracy: 0.038\n",
            "Epoch: 1/2..  Training Loss: 2.310..  Test Loss: 2.307..  Test Accuracy: 0.038\n",
            "Epoch: 1/2..  Training Loss: 2.314..  Test Loss: 2.307..  Test Accuracy: 0.038\n",
            "Epoch: 1/2..  Training Loss: 2.311..  Test Loss: 2.307..  Test Accuracy: 0.037\n",
            "Epoch: 1/2..  Training Loss: 2.314..  Test Loss: 2.307..  Test Accuracy: 0.037\n",
            "Epoch: 1/2..  Training Loss: 2.313..  Test Loss: 2.307..  Test Accuracy: 0.037\n",
            "Epoch: 1/2..  Training Loss: 2.310..  Test Loss: 2.307..  Test Accuracy: 0.037\n",
            "Epoch: 1/2..  Training Loss: 2.310..  Test Loss: 2.307..  Test Accuracy: 0.037\n",
            "Epoch: 1/2..  Training Loss: 2.311..  Test Loss: 2.307..  Test Accuracy: 0.037\n",
            "Epoch: 2/2..  Training Loss: 2.313..  Test Loss: 2.307..  Test Accuracy: 0.037\n",
            "Epoch: 2/2..  Training Loss: 2.312..  Test Loss: 2.307..  Test Accuracy: 0.037\n",
            "Epoch: 2/2..  Training Loss: 2.310..  Test Loss: 2.307..  Test Accuracy: 0.038\n",
            "Epoch: 2/2..  Training Loss: 2.314..  Test Loss: 2.307..  Test Accuracy: 0.038\n",
            "Epoch: 2/2..  Training Loss: 2.313..  Test Loss: 2.307..  Test Accuracy: 0.037\n",
            "Epoch: 2/2..  Training Loss: 2.308..  Test Loss: 2.307..  Test Accuracy: 0.038\n",
            "Epoch: 2/2..  Training Loss: 2.314..  Test Loss: 2.307..  Test Accuracy: 0.037\n",
            "Epoch: 2/2..  Training Loss: 2.307..  Test Loss: 2.307..  Test Accuracy: 0.037\n",
            "Epoch: 2/2..  Training Loss: 2.313..  Test Loss: 2.307..  Test Accuracy: 0.038\n",
            "Epoch: 2/2..  Training Loss: 2.311..  Test Loss: 2.307..  Test Accuracy: 0.038\n",
            "Epoch: 2/2..  Training Loss: 2.304..  Test Loss: 2.307..  Test Accuracy: 0.038\n",
            "Epoch: 2/2..  Training Loss: 2.310..  Test Loss: 2.307..  Test Accuracy: 0.038\n",
            "Epoch: 2/2..  Training Loss: 2.311..  Test Loss: 2.307..  Test Accuracy: 0.037\n",
            "Epoch: 2/2..  Training Loss: 2.311..  Test Loss: 2.307..  Test Accuracy: 0.037\n",
            "Epoch: 2/2..  Training Loss: 2.306..  Test Loss: 2.307..  Test Accuracy: 0.037\n",
            "Epoch: 2/2..  Training Loss: 2.310..  Test Loss: 2.307..  Test Accuracy: 0.037\n",
            "Epoch: 2/2..  Training Loss: 2.311..  Test Loss: 2.307..  Test Accuracy: 0.037\n",
            "Epoch: 2/2..  Training Loss: 2.309..  Test Loss: 2.307..  Test Accuracy: 0.037\n",
            "Epoch: 2/2..  Training Loss: 2.310..  Test Loss: 2.307..  Test Accuracy: 0.037\n",
            "Epoch: 2/2..  Training Loss: 2.309..  Test Loss: 2.307..  Test Accuracy: 0.037\n",
            "Epoch: 2/2..  Training Loss: 2.309..  Test Loss: 2.307..  Test Accuracy: 0.037\n",
            "Epoch: 2/2..  Training Loss: 2.313..  Test Loss: 2.307..  Test Accuracy: 0.038\n",
            "Epoch: 2/2..  Training Loss: 2.313..  Test Loss: 2.307..  Test Accuracy: 0.037\n"
          ]
        }
      ],
      "source": [
        "fc_model.train(model, trainloader, testloader, criterion, optimizer, epochs=2)"
      ]
    },
    {
      "cell_type": "markdown",
      "metadata": {
        "id": "MPkiFhnHxZEm"
      },
      "source": [
        "## Saving and loading networks\n",
        "\n",
        "As you can imagine, it's impractical to train a network every time you need to use it. Instead, we can save trained networks then load them later to train more or use them for predictions.\n",
        "\n",
        "The parameters for PyTorch networks are stored in a model's `state_dict`. We can see the state dict contains the weight and bias matrices for each of our layers."
      ]
    },
    {
      "cell_type": "code",
      "execution_count": 12,
      "metadata": {
        "colab": {
          "base_uri": "https://localhost:8080/"
        },
        "id": "fNHBdSJpxZEn",
        "outputId": "a58766eb-0788-42cd-ac1d-962f0fdb2944"
      },
      "outputs": [
        {
          "output_type": "stream",
          "name": "stdout",
          "text": [
            "Our model: \n",
            "\n",
            " Network(\n",
            "  (hidden_layers): ModuleList(\n",
            "    (0): Linear(in_features=784, out_features=400, bias=True)\n",
            "    (1): Linear(in_features=400, out_features=200, bias=True)\n",
            "    (2): Linear(in_features=200, out_features=100, bias=True)\n",
            "  )\n",
            "  (output): Linear(in_features=100, out_features=10, bias=True)\n",
            "  (dropout): Dropout(p=0.5, inplace=False)\n",
            ") \n",
            "\n",
            "The state dict keys: \n",
            "\n",
            " odict_keys(['hidden_layers.0.weight', 'hidden_layers.0.bias', 'hidden_layers.1.weight', 'hidden_layers.1.bias', 'hidden_layers.2.weight', 'hidden_layers.2.bias', 'output.weight', 'output.bias'])\n"
          ]
        }
      ],
      "source": [
        "print(\"Our model: \\n\\n\", model, '\\n')\n",
        "print(\"The state dict keys: \\n\\n\", model.state_dict().keys())"
      ]
    },
    {
      "cell_type": "markdown",
      "metadata": {
        "id": "Cceqji-GxZEn"
      },
      "source": [
        "The simplest thing to do is simply save the state dict with `torch.save`. For example, we can save it to a file `'checkpoint.pth'`."
      ]
    },
    {
      "cell_type": "code",
      "execution_count": 13,
      "metadata": {
        "id": "KvIZW5MExZEo"
      },
      "outputs": [],
      "source": [
        "torch.save(model.state_dict(), 'checkpoint.pth')"
      ]
    },
    {
      "cell_type": "markdown",
      "metadata": {
        "id": "sMEmWTtOxZEo"
      },
      "source": [
        "Then we can load the state dict with `torch.load`."
      ]
    },
    {
      "cell_type": "code",
      "execution_count": 14,
      "metadata": {
        "colab": {
          "base_uri": "https://localhost:8080/"
        },
        "id": "i5QPjxUtxZEo",
        "outputId": "ed11bee4-b253-4c82-8d64-2c0bf15990a5"
      },
      "outputs": [
        {
          "output_type": "stream",
          "name": "stdout",
          "text": [
            "odict_keys(['hidden_layers.0.weight', 'hidden_layers.0.bias', 'hidden_layers.1.weight', 'hidden_layers.1.bias', 'hidden_layers.2.weight', 'hidden_layers.2.bias', 'output.weight', 'output.bias'])\n"
          ]
        }
      ],
      "source": [
        "state_dict = torch.load('checkpoint.pth')\n",
        "print(state_dict.keys())"
      ]
    },
    {
      "cell_type": "markdown",
      "metadata": {
        "id": "kMSfk_V8xZEp"
      },
      "source": [
        "And to load the state dict in to the network, you do `model.load_state_dict(state_dict)`."
      ]
    },
    {
      "cell_type": "code",
      "execution_count": 15,
      "metadata": {
        "colab": {
          "base_uri": "https://localhost:8080/"
        },
        "id": "zes-G7KbxZEp",
        "outputId": "f344785f-ae0d-41a7-ea1d-1e6cbe55664d"
      },
      "outputs": [
        {
          "output_type": "execute_result",
          "data": {
            "text/plain": [
              "<All keys matched successfully>"
            ]
          },
          "metadata": {},
          "execution_count": 15
        }
      ],
      "source": [
        "model.load_state_dict(state_dict)"
      ]
    },
    {
      "cell_type": "markdown",
      "metadata": {
        "id": "TTH7HOivxZEq"
      },
      "source": [
        "Seems pretty straightforward, but as usual it's a bit more complicated. Loading the state dict works only if the model architecture is exactly the same as the checkpoint architecture. If I create a model with a different architecture, this fails."
      ]
    },
    {
      "cell_type": "code",
      "execution_count": 16,
      "metadata": {
        "colab": {
          "base_uri": "https://localhost:8080/"
        },
        "id": "R27e87AgxZEq",
        "outputId": "b6e535af-2f18-450c-c509-ec778f868dd0"
      },
      "outputs": [
        {
          "output_type": "execute_result",
          "data": {
            "text/plain": [
              "<All keys matched successfully>"
            ]
          },
          "metadata": {},
          "execution_count": 16
        }
      ],
      "source": [
        "# Try this\n",
        "model = fc_model.Network(784, 10, [400, 200, 100])\n",
        "# This will throw an error because the tensor sizes are wrong!\n",
        "model.load_state_dict(state_dict)"
      ]
    },
    {
      "cell_type": "markdown",
      "metadata": {
        "id": "i8ovacDBxZEr"
      },
      "source": [
        "This means we need to rebuild the model exactly as it was when trained. Information about the model architecture needs to be saved in the checkpoint, along with the state dict. To do this, you build a dictionary with all the information you need to compeletely rebuild the model."
      ]
    },
    {
      "cell_type": "code",
      "execution_count": 17,
      "metadata": {
        "id": "ye6X4WxIxZE1"
      },
      "outputs": [],
      "source": [
        "checkpoint = {'input_size': 784,\n",
        "              'output_size': 10,\n",
        "              'hidden_layers': [each.out_features for each in model.hidden_layers],\n",
        "              'state_dict': model.state_dict()}\n",
        "\n",
        "torch.save(checkpoint, 'checkpoint.pth')"
      ]
    },
    {
      "cell_type": "markdown",
      "metadata": {
        "id": "W9C2rVKcxZE5"
      },
      "source": [
        "Now the checkpoint has all the necessary information to rebuild the trained model. You can easily make that a function if you want. Similarly, we can write a function to load checkpoints."
      ]
    },
    {
      "cell_type": "code",
      "execution_count": 18,
      "metadata": {
        "id": "fcgDVKK5xZE8"
      },
      "outputs": [],
      "source": [
        "def load_checkpoint(filepath):\n",
        "    checkpoint = torch.load(filepath)\n",
        "    model = fc_model.Network(checkpoint['input_size'],\n",
        "                             checkpoint['output_size'],\n",
        "                             checkpoint['hidden_layers'])\n",
        "    model.load_state_dict(checkpoint['state_dict'])\n",
        "\n",
        "    return model"
      ]
    },
    {
      "cell_type": "code",
      "execution_count": 19,
      "metadata": {
        "colab": {
          "base_uri": "https://localhost:8080/"
        },
        "id": "y-RYb0vBxZFD",
        "outputId": "1b79dd7c-4fc8-4141-9ac3-3042d547f4e3"
      },
      "outputs": [
        {
          "output_type": "stream",
          "name": "stdout",
          "text": [
            "Network(\n",
            "  (hidden_layers): ModuleList(\n",
            "    (0): Linear(in_features=784, out_features=400, bias=True)\n",
            "    (1): Linear(in_features=400, out_features=200, bias=True)\n",
            "    (2): Linear(in_features=200, out_features=100, bias=True)\n",
            "  )\n",
            "  (output): Linear(in_features=100, out_features=10, bias=True)\n",
            "  (dropout): Dropout(p=0.5, inplace=False)\n",
            ")\n"
          ]
        }
      ],
      "source": [
        "model = load_checkpoint('checkpoint.pth')\n",
        "print(model)"
      ]
    },
    {
      "cell_type": "code",
      "source": [],
      "metadata": {
        "id": "vTioQSyp1bx3"
      },
      "execution_count": null,
      "outputs": []
    }
  ],
  "metadata": {
    "kernelspec": {
      "display_name": "Python 3",
      "language": "python",
      "name": "python3"
    },
    "language_info": {
      "codemirror_mode": {
        "name": "ipython",
        "version": 3
      },
      "file_extension": ".py",
      "mimetype": "text/x-python",
      "name": "python",
      "nbconvert_exporter": "python",
      "pygments_lexer": "ipython3",
      "version": "3.6.6"
    },
    "colab": {
      "provenance": [],
      "include_colab_link": true
    }
  },
  "nbformat": 4,
  "nbformat_minor": 0
}