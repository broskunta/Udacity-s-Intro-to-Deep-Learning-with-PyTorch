{
  "cells": [
    {
      "cell_type": "markdown",
      "metadata": {
        "id": "view-in-github",
        "colab_type": "text"
      },
      "source": [
        "<a href=\"https://colab.research.google.com/github/broskunta/Udacity-s-Intro-to-Deep-Learning-with-PyTorch/blob/main/Part_2_Neural_Networks_in_PyTorch_(Exercises).ipynb\" target=\"_parent\"><img src=\"https://colab.research.google.com/assets/colab-badge.svg\" alt=\"Open In Colab\"/></a>"
      ]
    },
    {
      "cell_type": "markdown",
      "metadata": {
        "id": "q--YrrKQs83J"
      },
      "source": [
        "# Neural networks with PyTorch\n",
        "\n",
        "Deep learning networks tend to be massive with dozens or hundreds of layers, that's where the term \"deep\" comes from. You can build one of these deep networks using only weight matrices as we did in the previous notebook, but in general it's very cumbersome and difficult to implement. PyTorch has a nice module `nn` that provides a nice way to efficiently build large neural networks."
      ]
    },
    {
      "cell_type": "code",
      "execution_count": 1,
      "metadata": {
        "collapsed": true,
        "id": "VcHnNDFos83N"
      },
      "outputs": [],
      "source": [
        "# Import necessary packages\n",
        "\n",
        "%matplotlib inline\n",
        "%config InlineBackend.figure_format = 'retina'\n",
        "\n",
        "import numpy as np\n",
        "import torch\n",
        "\n",
        "import helper\n",
        "\n",
        "import matplotlib.pyplot as plt"
      ]
    },
    {
      "cell_type": "markdown",
      "metadata": {
        "id": "pMqdUxins83Q"
      },
      "source": [
        "\n",
        "Now we're going to build a larger network that can solve a (formerly) difficult problem, identifying text in an image. Here we'll use the MNIST dataset which consists of greyscale handwritten digits. Each image is 28x28 pixels, you can see a sample below\n",
        "\n",
        "<img src='assets/mnist.png'>\n",
        "\n",
        "Our goal is to build a neural network that can take one of these images and predict the digit in the image.\n",
        "\n",
        "First up, we need to get our dataset. This is provided through the `torchvision` package. The code below will download the MNIST dataset, then create training and test datasets for us. Don't worry too much about the details here, you'll learn more about this later."
      ]
    },
    {
      "cell_type": "code",
      "execution_count": 2,
      "metadata": {
        "id": "769eLqARs83R"
      },
      "outputs": [],
      "source": [
        "# The MNIST datasets are hosted on yann.lecun.com that has moved under CloudFlare protection\n",
        "# Run this script to enable the datasets download\n",
        "# Reference: https://github.com/pytorch/vision/issues/1938\n",
        "\n",
        "from six.moves import urllib\n",
        "opener = urllib.request.build_opener()\n",
        "opener.addheaders = [('User-agent', 'Mozilla/5.0')]\n",
        "urllib.request.install_opener(opener)"
      ]
    },
    {
      "cell_type": "code",
      "execution_count": 3,
      "metadata": {
        "collapsed": true,
        "colab": {
          "base_uri": "https://localhost:8080/"
        },
        "id": "tWB57XzNs83S",
        "outputId": "5e66ce4c-cf2a-480e-ff9c-1fbbcbb32bf8"
      },
      "outputs": [
        {
          "output_type": "stream",
          "name": "stdout",
          "text": [
            "Downloading http://yann.lecun.com/exdb/mnist/train-images-idx3-ubyte.gz\n",
            "Downloading http://yann.lecun.com/exdb/mnist/train-images-idx3-ubyte.gz to /root/.pytorch/MNIST_data/MNIST/raw/train-images-idx3-ubyte.gz\n"
          ]
        },
        {
          "output_type": "stream",
          "name": "stderr",
          "text": [
            "100%|██████████| 9912422/9912422 [00:00<00:00, 458195146.95it/s]"
          ]
        },
        {
          "output_type": "stream",
          "name": "stdout",
          "text": [
            "Extracting /root/.pytorch/MNIST_data/MNIST/raw/train-images-idx3-ubyte.gz to /root/.pytorch/MNIST_data/MNIST/raw\n"
          ]
        },
        {
          "output_type": "stream",
          "name": "stderr",
          "text": [
            "\n"
          ]
        },
        {
          "output_type": "stream",
          "name": "stdout",
          "text": [
            "\n",
            "Downloading http://yann.lecun.com/exdb/mnist/train-labels-idx1-ubyte.gz\n",
            "Downloading http://yann.lecun.com/exdb/mnist/train-labels-idx1-ubyte.gz to /root/.pytorch/MNIST_data/MNIST/raw/train-labels-idx1-ubyte.gz\n"
          ]
        },
        {
          "output_type": "stream",
          "name": "stderr",
          "text": [
            "100%|██████████| 28881/28881 [00:00<00:00, 33233386.51it/s]\n"
          ]
        },
        {
          "output_type": "stream",
          "name": "stdout",
          "text": [
            "Extracting /root/.pytorch/MNIST_data/MNIST/raw/train-labels-idx1-ubyte.gz to /root/.pytorch/MNIST_data/MNIST/raw\n",
            "\n",
            "Downloading http://yann.lecun.com/exdb/mnist/t10k-images-idx3-ubyte.gz\n",
            "Downloading http://yann.lecun.com/exdb/mnist/t10k-images-idx3-ubyte.gz to /root/.pytorch/MNIST_data/MNIST/raw/t10k-images-idx3-ubyte.gz\n"
          ]
        },
        {
          "output_type": "stream",
          "name": "stderr",
          "text": [
            "100%|██████████| 1648877/1648877 [00:00<00:00, 204436767.17it/s]"
          ]
        },
        {
          "output_type": "stream",
          "name": "stdout",
          "text": [
            "Extracting /root/.pytorch/MNIST_data/MNIST/raw/t10k-images-idx3-ubyte.gz to /root/.pytorch/MNIST_data/MNIST/raw\n",
            "\n",
            "Downloading http://yann.lecun.com/exdb/mnist/t10k-labels-idx1-ubyte.gz\n",
            "Downloading http://yann.lecun.com/exdb/mnist/t10k-labels-idx1-ubyte.gz to /root/.pytorch/MNIST_data/MNIST/raw/t10k-labels-idx1-ubyte.gz\n"
          ]
        },
        {
          "output_type": "stream",
          "name": "stderr",
          "text": [
            "\n",
            "100%|██████████| 4542/4542 [00:00<00:00, 15862222.12it/s]\n"
          ]
        },
        {
          "output_type": "stream",
          "name": "stdout",
          "text": [
            "Extracting /root/.pytorch/MNIST_data/MNIST/raw/t10k-labels-idx1-ubyte.gz to /root/.pytorch/MNIST_data/MNIST/raw\n",
            "\n"
          ]
        }
      ],
      "source": [
        "### Run this cell\n",
        "\n",
        "from torchvision import datasets, transforms\n",
        "\n",
        "# Define a transform to normalize the data\n",
        "transform = transforms.Compose([transforms.ToTensor(),\n",
        "                              transforms.Normalize((0.5,), (0.5,)),\n",
        "                              ])\n",
        "\n",
        "# Download and load the training data\n",
        "trainset = datasets.MNIST('~/.pytorch/MNIST_data/', download=True, train=True, transform=transform)\n",
        "trainloader = torch.utils.data.DataLoader(trainset, batch_size=64, shuffle=True)"
      ]
    },
    {
      "cell_type": "markdown",
      "metadata": {
        "id": "HUSeGvQts83T"
      },
      "source": [
        "We have the training data loaded into `trainloader` and we make that an iterator with `iter(trainloader)`. Later, we'll use this to loop through the dataset for training, like\n",
        "\n",
        "```python\n",
        "for image, label in trainloader:\n",
        "    ## do things with images and labels\n",
        "```\n",
        "\n",
        "You'll notice I created the `trainloader` with a batch size of 64, and `shuffle=True`. The batch size is the number of images we get in one iteration from the data loader and pass through our network, often called a *batch*. And `shuffle=True` tells it to shuffle the dataset every time we start going through the data loader again. But here I'm just grabbing the first batch so we can check out the data. We can see below that `images` is just a tensor with size `(64, 1, 28, 28)`. So, 64 images per batch, 1 color channel, and 28x28 images."
      ]
    },
    {
      "cell_type": "code",
      "execution_count": 4,
      "metadata": {
        "collapsed": true,
        "colab": {
          "base_uri": "https://localhost:8080/"
        },
        "id": "lr7V67Jgs83U",
        "outputId": "ccf03836-bae5-42e4-93a0-bebd8b9a2a03"
      },
      "outputs": [
        {
          "output_type": "stream",
          "name": "stdout",
          "text": [
            "<class 'torch.Tensor'>\n",
            "torch.Size([64, 1, 28, 28])\n",
            "torch.Size([64])\n"
          ]
        }
      ],
      "source": [
        "dataiter = iter(trainloader)\n",
        "images, labels = next(dataiter)\n",
        "print(type(images))\n",
        "print(images.shape)\n",
        "print(labels.shape)"
      ]
    },
    {
      "cell_type": "markdown",
      "metadata": {
        "id": "oF9Q_kKUs83U"
      },
      "source": [
        "This is what one of the images looks like."
      ]
    },
    {
      "cell_type": "code",
      "execution_count": 5,
      "metadata": {
        "collapsed": true,
        "colab": {
          "base_uri": "https://localhost:8080/",
          "height": 430
        },
        "id": "J-Xa0MW4s83V",
        "outputId": "0aa990f4-83dd-4b15-9489-f898f9a176e1"
      },
      "outputs": [
        {
          "output_type": "display_data",
          "data": {
            "text/plain": [
              "<Figure size 640x480 with 1 Axes>"
            ],
            "image/png": "[encoded data removed]"
          },
          "metadata": {
            "image/png": {
              "width": 417,
              "height": 413
            }
          }
        }
      ],
      "source": [
        "plt.imshow(images[1].numpy().squeeze(), cmap='Greys_r');"
      ]
    },
    {
      "cell_type": "markdown",
      "metadata": {
        "id": "Kz31nqXgs83V"
      },
      "source": [
        "First, let's try to build a simple network for this dataset using weight matrices and matrix multiplications. Then, we'll see how to do it using PyTorch's `nn` module which provides a much more convenient and powerful method for defining network architectures.\n",
        "\n",
        "The networks you've seen so far are called *fully-connected* or *dense* networks. Each unit in one layer is connected to each unit in the next layer. In fully-connected networks, the input to each layer must be a one-dimensional vector (which can be stacked into a 2D tensor as a batch of multiple examples). However, our images are 28x28 2D tensors, so we need to convert them into 1D vectors. Thinking about sizes, we need to convert the batch of images with shape `(64, 1, 28, 28)` to a have a shape of `(64, 784)`, 784 is 28 times 28. This is typically called *flattening*, we flattened the 2D images into 1D vectors.\n",
        "\n",
        "Previously you built a network with one output unit. Here we need 10 output units, one for each digit. We want our network to predict the digit shown in an image, so what we'll do is calculate probabilities that the image is of any one digit or class. This ends up being a discrete probability distribution over the classes (digits) that tells us the most likely class for the image. That means we need 10 output units for the 10 classes (digits). We'll see how to convert the network output into a probability distribution next.\n",
        "\n",
        "> **Exercise:** Flatten the batch of images `images`. Then build a multi-layer network with 784 input units, 256 hidden units, and 10 output units using random tensors for the weights and biases. For now, use a sigmoid activation for the hidden layer. Leave the output layer without an activation, we'll add one that gives us a probability distribution next."
      ]
    },
    {
      "cell_type": "code",
      "execution_count": 6,
      "metadata": {
        "collapsed": true,
        "colab": {
          "base_uri": "https://localhost:8080/"
        },
        "id": "it4hqTLRs83W",
        "outputId": "96bda452-6980-4317-c489-fa20572d1dce"
      },
      "outputs": [
        {
          "output_type": "stream",
          "name": "stdout",
          "text": [
            "tensor([[-5.3778e+00,  2.8275e+01, -4.4231e+00,  1.1229e+01, -2.2774e+01,\n",
            "         -1.7625e+01,  2.2579e+00,  1.4232e+01, -3.1753e+00,  5.4955e+00],\n",
            "        [ 5.4403e+00,  2.4858e+01, -7.7205e+00,  1.0108e+01, -1.3416e+01,\n",
            "         -1.1792e+01, -2.5259e+00,  2.2995e+01, -4.1480e+00,  4.2602e+00],\n",
            "        [-9.8270e-01,  2.4326e+01, -2.1575e+00,  1.4957e+00, -2.7014e+01,\n",
            "         -4.0657e+00,  7.3594e+00,  1.4832e+01, -2.6215e+00,  1.2800e+01],\n",
            "        [-3.0200e+00,  2.8442e+01, -6.9504e+00,  9.6650e+00, -1.7576e+01,\n",
            "         -1.6195e+01,  1.5795e+00,  5.2411e+00,  5.0974e+00,  2.0984e+01],\n",
            "        [-2.8149e+00,  1.9925e+01, -4.5244e+00,  8.9442e-01, -2.3500e+01,\n",
            "         -7.2113e+00, -6.0095e+00,  6.5898e+00, -5.7395e+00,  1.5284e+01],\n",
            "        [ 8.8758e+00,  2.8210e+01, -8.3384e+00,  2.0151e+01, -1.9619e+01,\n",
            "         -2.5350e+01,  1.2483e+01,  1.9780e+01, -2.0096e+00, -3.4631e+00],\n",
            "        [-5.2192e+00,  7.3166e+00,  2.8432e+00,  2.6380e+00, -2.2201e+01,\n",
            "         -1.7667e+01,  2.4697e+00,  1.3523e+01, -1.2342e+01,  1.0468e+01],\n",
            "        [-7.2486e+00,  2.0767e+01, -4.4195e+00,  1.0071e+01, -2.0475e+01,\n",
            "         -2.3070e+01,  2.9421e+00,  1.9519e+01,  3.7626e-01,  7.3105e+00],\n",
            "        [-8.7074e+00,  1.6338e+01, -4.6358e+00,  8.3353e+00, -2.0164e+01,\n",
            "         -1.6180e+01,  6.9117e+00,  1.0180e+01, -1.1099e+01,  1.2682e+01],\n",
            "        [-9.1237e+00,  2.0373e+01, -9.0969e+00,  7.4439e+00, -1.4731e+01,\n",
            "         -1.5625e+01, -1.8462e+00,  1.6214e+01, -4.0199e+00,  1.7683e+01],\n",
            "        [ 4.6438e+00,  2.1764e+01,  2.9082e+00,  1.7866e+00, -1.5159e+01,\n",
            "         -7.8763e+00,  3.4751e+00,  1.6592e+01, -3.1483e+00,  1.7087e+01],\n",
            "        [-5.4898e+00,  2.3759e+01,  5.6812e+00,  6.9668e+00, -2.0872e+01,\n",
            "         -1.3743e+01,  5.4382e+00,  8.4770e+00,  1.3161e+00,  1.3992e+01],\n",
            "        [ 5.3159e-02,  2.9720e+01, -1.4699e+00,  7.3513e+00, -1.5822e+01,\n",
            "         -1.6004e+01,  3.1731e+00,  1.3741e+01, -6.1934e+00,  9.8729e+00],\n",
            "        [-3.7241e+00,  2.0195e+01, -7.7106e+00,  1.3060e+01, -3.1566e+01,\n",
            "         -2.6649e+01,  2.3938e+00,  7.5951e+00, -7.6771e+00,  8.3370e-01],\n",
            "        [-1.3444e+01,  3.2022e+01, -1.7411e+00,  1.1818e+00, -1.8980e+01,\n",
            "         -3.8407e+00,  4.6777e-01,  9.5718e+00,  2.0731e+00,  1.1629e+01],\n",
            "        [-3.5930e+00,  2.3005e+01, -7.7539e+00,  6.6802e-01, -1.5429e+01,\n",
            "         -1.2025e+01,  2.0975e+00,  2.1505e+01,  6.6804e+00,  1.2934e+01],\n",
            "        [-4.6829e+00,  1.4053e+01, -9.6752e+00,  2.6145e+00, -2.3861e+01,\n",
            "         -2.6322e+01,  6.4630e-03,  9.7333e+00, -2.8031e+00,  7.6874e+00],\n",
            "        [ 5.1480e+00,  1.6803e+01, -5.6701e+00,  2.1335e+00, -3.2175e+01,\n",
            "         -1.3393e+01,  4.7489e+00,  9.9685e+00, -7.0612e+00,  6.6995e+00],\n",
            "        [-4.8890e+00,  1.6234e+01,  4.6596e+00,  1.2962e+00, -6.5036e+00,\n",
            "         -3.5826e+00, -5.8970e+00,  2.2898e+01, -4.0982e+00,  8.8146e+00],\n",
            "        [ 1.4103e+00,  1.8588e+01, -5.8474e+00,  7.5885e-01, -2.3365e+01,\n",
            "         -1.5196e+01, -4.7499e-01,  4.8521e+00, -7.1092e+00,  2.1822e+01],\n",
            "        [-9.2307e+00,  3.1217e+01, -1.4619e+00,  8.4079e+00, -1.9906e+01,\n",
            "         -1.1662e+01,  1.7069e+00,  8.2432e+00, -1.3831e+00,  1.6661e+01],\n",
            "        [-1.5364e+00,  2.1139e+01,  5.0251e-01, -3.7015e-01, -1.0299e+01,\n",
            "         -8.5418e+00, -9.2546e+00,  1.8669e+01, -1.2227e+01,  1.7563e+01],\n",
            "        [ 8.1891e+00,  2.3857e+01,  2.4059e+00,  5.8973e+00, -3.0219e+01,\n",
            "         -2.4687e+01, -5.0202e+00,  1.5949e+01, -5.5989e+00,  1.6718e+01],\n",
            "        [-1.3283e+01,  1.8999e+01, -9.0938e+00,  1.0244e+01, -1.6936e+01,\n",
            "         -8.1651e+00, -7.7454e-01,  1.7984e+01, -4.3224e+00,  1.1202e+01],\n",
            "        [ 6.6488e+00,  1.7862e+01, -2.4422e+00,  6.9826e+00, -2.2802e+01,\n",
            "         -1.5560e+01,  1.2059e+01,  9.6713e+00, -3.0965e+00,  7.8674e+00],\n",
            "        [ 3.9005e+00,  2.7814e+01,  8.7630e+00,  1.0666e+01, -2.9495e+01,\n",
            "         -1.5814e+01,  1.6332e+00,  1.1066e+01, -4.9359e+00,  2.5585e+01],\n",
            "        [-3.0532e+00,  1.2410e+01, -2.2321e+00,  9.4875e+00, -2.1204e+01,\n",
            "         -5.9242e+00,  4.2747e+00,  1.4377e+01, -8.7615e+00,  1.3068e+01],\n",
            "        [ 3.9835e+00,  2.4100e+01, -5.8649e+00,  7.2993e+00, -1.8077e+01,\n",
            "         -7.9712e+00, -9.5071e+00,  1.0717e+01, -4.3559e+00,  1.6168e+01],\n",
            "        [ 6.2209e+00,  2.1402e+01, -6.5521e+00,  3.8724e+00, -1.5641e+01,\n",
            "         -1.7957e+01,  5.7969e+00,  1.6208e+01, -1.0366e+01,  5.4452e+00],\n",
            "        [ 5.2546e-02,  1.8088e+01, -8.6912e+00, -7.8018e+00, -3.2636e+01,\n",
            "         -1.3318e+01,  9.0075e-01,  1.1998e+01, -1.1225e+01,  7.2010e+00],\n",
            "        [-4.0022e+00,  2.5888e+01,  5.3138e-01,  1.0423e+01, -2.4100e+01,\n",
            "         -1.4649e+01,  2.5567e+00,  1.1483e+01, -9.0961e+00,  8.2459e+00],\n",
            "        [ 4.3400e+00,  3.0618e+01, -7.6857e+00,  3.3036e+00, -2.0352e+01,\n",
            "         -2.3840e+01,  1.5840e+00,  1.4757e+01,  4.5450e+00,  1.5983e+01],\n",
            "        [-6.0763e+00,  2.0951e+01, -9.4318e+00,  2.1756e+00, -1.8545e+01,\n",
            "         -1.1424e+01,  2.7717e+00,  1.1059e+01,  3.0167e+00,  4.4385e+00],\n",
            "        [-6.2343e+00,  1.8044e+01, -6.0966e+00,  6.6038e+00, -1.1445e+01,\n",
            "         -1.0382e+01, -5.1818e+00,  7.3905e+00, -2.0817e+00,  7.7218e+00],\n",
            "        [ 1.1648e+01,  2.3158e+01, -1.4246e+01,  4.8115e+00, -1.4378e+01,\n",
            "         -1.9730e+01,  2.7387e+00,  1.4119e+01, -6.1347e+00,  1.1369e+01],\n",
            "        [-5.0816e+00,  2.5264e+01, -1.8945e+00,  3.1620e+00, -1.4978e+01,\n",
            "         -1.2072e+01, -1.4451e+00,  1.4426e+01,  2.5246e-01,  1.0401e+01],\n",
            "        [-1.2983e+01,  2.5308e+01, -2.3549e+00,  5.6462e+00, -1.0542e+01,\n",
            "         -9.7990e+00,  1.4975e+00,  1.9009e+01, -7.0189e+00,  1.9479e+01],\n",
            "        [-7.1540e+00,  1.5284e+01, -7.5000e+00,  8.7946e+00, -1.8601e+01,\n",
            "         -2.2769e+01, -2.5053e+00,  1.8329e+01, -4.9057e+00,  1.2551e+01],\n",
            "        [ 5.5990e+00,  2.2979e+01, -6.6622e+00,  1.3636e+01, -1.2260e+01,\n",
            "         -1.6384e+01, -1.4997e+00,  2.0838e+01,  5.1055e-01,  3.3150e+00],\n",
            "        [-1.2076e+00,  1.6360e+01, -1.5285e+01, -1.9693e+00, -2.0798e+01,\n",
            "         -1.1912e+01, -3.0669e+00,  1.2773e+01, -2.6080e+00,  1.4031e+01],\n",
            "        [-9.2839e+00,  1.1354e+01, -7.2718e+00,  1.0745e+01, -2.2504e+01,\n",
            "         -2.0918e+01,  8.3119e-01,  9.3732e+00, -6.1939e+00,  1.2492e+01],\n",
            "        [-5.9120e+00,  2.9133e+01,  2.2226e+00,  2.2505e+00, -1.9150e+01,\n",
            "         -4.9597e+00,  4.9582e+00,  1.5280e+01,  7.4882e-01,  1.2401e+01],\n",
            "        [-7.5824e+00,  2.2477e+01, -6.4836e+00,  1.2945e+01, -1.9989e+01,\n",
            "         -1.6347e+01,  1.3948e+00,  1.3845e+01, -9.0797e+00,  1.1234e+01],\n",
            "        [ 9.9898e-01,  1.7735e+01, -2.6600e+00,  7.4541e+00, -1.2431e+01,\n",
            "         -1.3855e+01,  7.1528e+00,  1.2512e+01, -6.0654e+00,  9.3078e+00],\n",
            "        [-1.8900e+00,  2.2476e+01, -3.1177e+00, -5.6069e-01, -9.0600e+00,\n",
            "         -6.6335e+00,  2.0728e+00,  1.8382e+01, -1.9299e+00,  1.7385e+01],\n",
            "        [-5.1736e+00,  2.1145e+01, -1.0652e+01,  5.3032e+00, -8.0467e+00,\n",
            "         -2.3090e+01, -1.5945e+00,  1.7644e+01, -6.5522e+00,  1.1260e+01],\n",
            "        [-3.3969e+00,  2.4129e+01, -1.3175e+01,  1.0933e+00, -1.6760e+01,\n",
            "         -9.2627e+00, -9.0917e-01,  1.6781e+01, -1.6644e+00,  1.7463e+01],\n",
            "        [-5.7145e+00,  1.8305e+01,  1.0792e+00,  8.6794e+00, -1.8303e+01,\n",
            "         -1.2598e+01,  6.6663e+00,  1.7272e+01, -6.0136e+00,  1.5104e+01],\n",
            "        [ 3.3507e+00,  2.2575e+01, -5.1998e+00,  5.5561e+00, -2.6401e+01,\n",
            "         -2.4091e+01,  6.2173e-03,  1.0672e+01, -5.4053e+00,  1.7323e+01],\n",
            "        [-8.3710e+00,  2.9051e+01, -3.9156e+00, -2.2709e+00, -2.3648e+01,\n",
            "         -1.4196e+01, -8.8991e-01,  1.4766e+01, -3.0219e+00,  1.0005e+01],\n",
            "        [ 1.6218e+00,  1.9384e+01, -5.4575e+00,  2.1032e+00, -1.6863e+01,\n",
            "         -1.3731e+01, -3.0723e+00,  8.6248e+00, -1.2594e+01,  8.0928e+00],\n",
            "        [ 7.6130e+00,  2.4077e+01, -8.9103e+00,  1.0395e+00, -1.7016e+01,\n",
            "         -1.7492e+01, -5.1158e-02,  1.7985e+01, -5.2755e+00,  1.2295e+01],\n",
            "        [-1.6888e+00,  2.8525e+01, -1.4007e+00,  6.8202e+00, -2.3309e+01,\n",
            "         -1.5791e+01,  2.3881e+00,  1.3286e+01,  5.6648e+00,  1.0760e+01],\n",
            "        [ 1.0040e+00,  3.2741e+01, -8.6127e+00,  7.5251e+00, -2.1659e+01,\n",
            "         -1.4938e+01,  1.9793e+00,  1.4724e+01,  1.1497e+00,  1.3654e+01],\n",
            "        [-6.2960e-01,  1.5353e+01, -3.3020e+00,  3.7686e-01, -1.6096e+01,\n",
            "         -1.3466e+01,  8.4250e+00,  1.9309e+01, -5.4996e+00,  9.6775e+00],\n",
            "        [-6.0520e+00,  1.8482e+01, -8.1166e-01,  1.3374e+01, -1.7101e+01,\n",
            "         -2.3680e+01,  8.0204e-01,  1.9295e+01, -5.0205e+00,  1.6088e+01],\n",
            "        [-9.5917e+00,  2.3745e+01,  2.3195e+00,  5.9088e+00, -1.7069e+01,\n",
            "         -1.1116e+01,  2.7303e+00,  9.4424e+00, -3.8625e+00,  1.0080e+01],\n",
            "        [-5.3137e+00,  1.6469e+01, -3.0828e+00,  9.9482e+00, -7.2081e+00,\n",
            "         -5.2259e+00,  1.1328e-01,  2.3433e+01, -1.0676e+01,  1.0336e+01],\n",
            "        [-1.1891e+01,  2.3039e+01,  2.5974e+00,  5.8713e+00, -1.5281e+01,\n",
            "         -1.2221e+01,  5.8190e+00,  1.1306e+01, -4.0904e+00,  1.5161e+01],\n",
            "        [-1.5107e+00,  3.2373e+01, -6.0417e-01,  4.4900e+00, -1.6166e+01,\n",
            "         -6.3557e+00, -1.8743e+00,  1.6040e+01, -1.0540e+01,  1.7790e+01],\n",
            "        [-9.5705e+00,  2.3513e+01, -9.9216e+00,  3.7931e+00, -1.1145e+01,\n",
            "         -8.0878e+00,  2.2181e-01,  1.6656e+01, -1.3769e+01,  1.1182e+01],\n",
            "        [-4.7515e+00,  1.5744e+01, -3.9360e+00,  8.7992e+00, -2.1787e+01,\n",
            "         -1.6709e+01, -3.5443e+00,  1.9274e+01, -1.6682e+01,  1.3205e+01],\n",
            "        [ 6.2979e-01,  2.6036e+01,  1.2230e+00,  5.1636e+00, -1.5980e+01,\n",
            "         -1.5621e+01, -7.3695e-01,  1.7892e+01, -1.1500e+00,  1.2039e+01],\n",
            "        [-2.9203e+00,  2.3422e+01,  7.3031e-01,  1.1372e+01, -2.1272e+01,\n",
            "         -7.2164e+00, -4.6224e-01,  1.3272e+01,  4.6960e-01,  1.2341e+01]])\n"
          ]
        }
      ],
      "source": [
        "## Your solution\n",
        "\n",
        "#define activation\n",
        "\n",
        "def activation(x):\n",
        "  return 1/(1 + torch.exp(x))\n",
        "\n",
        "\n",
        "#build network\n",
        "#define features\n",
        "features = images.view(images.shape[0], -1)\n",
        "\n",
        "#define architecture and parameters\n",
        "#define weights\n",
        "W1 = torch.randn(784, 256)\n",
        "B1 = torch.randn(256)\n",
        "\n",
        "#set bias\n",
        "W2 = torch.randn(256, 10)\n",
        "B2 = torch.randn(10)\n",
        "\n",
        "# define output\n",
        "h = activation(torch.mm(features, W1) + B1)\n",
        "out = (torch.mm(h,W2) + B2)# output of your network, should have shape (64,10)\n",
        "\n",
        "print(out)"
      ]
    },
    {
      "cell_type": "markdown",
      "metadata": {
        "id": "GrXs3wNTs83X"
      },
      "source": [
        "Now we have 10 outputs for our network. We want to pass in an image to our network and get out a probability distribution over the classes that tells us the likely class(es) the image belongs to. Something that looks like this:\n",
        "<img src='assets/image_distribution.png' width=500px>\n",
        "\n",
        "Here we see that the probability for each class is roughly the same. This is representing an untrained network, it hasn't seen any data yet so it just returns a uniform distribution with equal probabilities for each class.\n",
        "\n",
        "To calculate this probability distribution, we often use the [**softmax** function](https://en.wikipedia.org/wiki/Softmax_function). Mathematically this looks like\n",
        "\n",
        "$$\n",
        "\\Large \\sigma(x_i) = \\cfrac{e^{x_i}}{\\sum_k^K{e^{x_k}}}\n",
        "$$\n",
        "\n",
        "What this does is squish each input $x_i$ between 0 and 1 and normalizes the values to give you a proper probability distribution where the probabilites sum up to one.\n",
        "\n",
        "> **Exercise:** Implement a function `softmax` that performs the softmax calculation and returns probability distributions for each example in the batch. Note that you'll need to pay attention to the shapes when doing this. If you have a tensor `a` with shape `(64, 10)` and a tensor `b` with shape `(64,)`, doing `a/b` will give you an error because PyTorch will try to do the division across the columns (called broadcasting) but you'll get a size mismatch. The way to think about this is for each of the 64 examples, you only want to divide by one value, the sum in the denominator. So you need `b` to have a shape of `(64, 1)`. This way PyTorch will divide the 10 values in each row of `a` by the one value in each row of `b`. Pay attention to how you take the sum as well. You'll need to define the `dim` keyword in `torch.sum`. Setting `dim=0` takes the sum across the rows while `dim=1` takes the sum across the columns."
      ]
    },
    {
      "cell_type": "code",
      "execution_count": 7,
      "metadata": {
        "collapsed": true,
        "colab": {
          "base_uri": "https://localhost:8080/"
        },
        "id": "YAMWkO4as83Y",
        "outputId": "221fa687-26a9-4429-8174-20386a8d435c"
      },
      "outputs": [
        {
          "output_type": "stream",
          "name": "stdout",
          "text": [
            "torch.Size([64, 10])\n",
            "tensor([1.0000, 1.0000, 1.0000, 1.0000, 1.0000, 1.0000, 1.0000, 1.0000, 1.0000,\n",
            "        1.0000, 1.0000, 1.0000, 1.0000, 1.0000, 1.0000, 1.0000, 1.0000, 1.0000,\n",
            "        1.0000, 1.0000, 1.0000, 1.0000, 1.0000, 1.0000, 1.0000, 1.0000, 1.0000,\n",
            "        1.0000, 1.0000, 1.0000, 1.0000, 1.0000, 1.0000, 1.0000, 1.0000, 1.0000,\n",
            "        1.0000, 1.0000, 1.0000, 1.0000, 1.0000, 1.0000, 1.0000, 1.0000, 1.0000,\n",
            "        1.0000, 1.0000, 1.0000, 1.0000, 1.0000, 1.0000, 1.0000, 1.0000, 1.0000,\n",
            "        1.0000, 1.0000, 1.0000, 1.0000, 1.0000, 1.0000, 1.0000, 1.0000, 1.0000,\n",
            "        1.0000])\n"
          ]
        }
      ],
      "source": [
        "def softmax(x):\n",
        "    ## TODO: Implement the softmax function here\n",
        "    num = torch.exp(x)\n",
        "    denum = torch.sum(num, dim = 1).view(-1,1)\n",
        "    return num/denum\n",
        "\n",
        "# Here, out should be the output of the network in the previous excercise with shape (64,10)\n",
        "probabilities = softmax(out)\n",
        "\n",
        "# Does it have the right shape? Should be (64, 10)\n",
        "print(probabilities.shape)\n",
        "# Does it sum to 1?\n",
        "print(probabilities.sum(dim=1))"
      ]
    },
    {
      "cell_type": "markdown",
      "metadata": {
        "id": "mwz_QxtSs83Y"
      },
      "source": [
        "## Building networks with PyTorch\n",
        "\n",
        "PyTorch provides a module `nn` that makes building networks much simpler. Here I'll show you how to build the same one as above with 784 inputs, 256 hidden units, 10 output units and a softmax output."
      ]
    },
    {
      "cell_type": "code",
      "execution_count": 9,
      "metadata": {
        "collapsed": true,
        "id": "Z_bHQMtNs83Y"
      },
      "outputs": [],
      "source": [
        "from torch import nn"
      ]
    },
    {
      "cell_type": "code",
      "execution_count": 10,
      "metadata": {
        "collapsed": true,
        "id": "5FLKKXDis83Z"
      },
      "outputs": [],
      "source": [
        "class Network(nn.Module):\n",
        "    def __init__(self):\n",
        "        super().__init__()\n",
        "\n",
        "        # Inputs to hidden layer linear transformation\n",
        "        self.hidden = nn.Linear(784, 256)\n",
        "        # Output layer, 10 units - one for each digit\n",
        "        self.output = nn.Linear(256, 10)\n",
        "\n",
        "        # Define sigmoid activation and softmax output\n",
        "        self.sigmoid = nn.Sigmoid()\n",
        "        self.softmax = nn.Softmax(dim=1)\n",
        "\n",
        "    def forward(self, x):\n",
        "        # Pass the input tensor through each of our operations\n",
        "        x = self.hidden(x)\n",
        "        x = self.sigmoid(x)\n",
        "        x = self.output(x)\n",
        "        x = self.softmax(x)\n",
        "\n",
        "        return x"
      ]
    },
    {
      "cell_type": "markdown",
      "metadata": {
        "id": "i-8ffV-Us83a"
      },
      "source": [
        "Let's go through this bit by bit.\n",
        "\n",
        "```python\n",
        "class Network(nn.Module):\n",
        "```\n",
        "\n",
        "Here we're inheriting from `nn.Module`. Combined with `super().__init__()` this creates a class that tracks the architecture and provides a lot of useful methods and attributes. It is mandatory to inherit from `nn.Module` when you're creating a class for your network. The name of the class itself can be anything.\n",
        "\n",
        "```python\n",
        "self.hidden = nn.Linear(784, 256)\n",
        "```\n",
        "\n",
        "This line creates a module for a linear transformation, $x\\mathbf{W} + b$, with 784 inputs and 256 outputs and assigns it to `self.hidden`. The module automatically creates the weight and bias tensors which we'll use in the `forward` method. You can access the weight and bias tensors once the network (`net`) is created with `net.hidden.weight` and `net.hidden.bias`.\n",
        "\n",
        "```python\n",
        "self.output = nn.Linear(256, 10)\n",
        "```\n",
        "\n",
        "Similarly, this creates another linear transformation with 256 inputs and 10 outputs.\n",
        "\n",
        "```python\n",
        "self.sigmoid = nn.Sigmoid()\n",
        "self.softmax = nn.Softmax(dim=1)\n",
        "```\n",
        "\n",
        "Here I defined operations for the sigmoid activation and softmax output. Setting `dim=1` in `nn.Softmax(dim=1)` calculates softmax across the columns.\n",
        "\n",
        "```python\n",
        "def forward(self, x):\n",
        "```\n",
        "\n",
        "PyTorch networks created with `nn.Module` must have a `forward` method defined. It takes in a tensor `x` and passes it through the operations you defined in the `__init__` method.\n",
        "\n",
        "```python\n",
        "x = self.hidden(x)\n",
        "x = self.sigmoid(x)\n",
        "x = self.output(x)\n",
        "x = self.softmax(x)\n",
        "```\n",
        "\n",
        "Here the input tensor `x` is passed through each operation and reassigned to `x`. We can see that the input tensor goes through the hidden layer, then a sigmoid function, then the output layer, and finally the softmax function. It doesn't matter what you name the variables here, as long as the inputs and outputs of the operations match the network architecture you want to build. The order in which you define things in the `__init__` method doesn't matter, but you'll need to sequence the operations correctly in the `forward` method.\n",
        "\n",
        "Now we can create a `Network` object."
      ]
    },
    {
      "cell_type": "code",
      "execution_count": 11,
      "metadata": {
        "collapsed": true,
        "colab": {
          "base_uri": "https://localhost:8080/"
        },
        "id": "TxZuSMzUs83a",
        "outputId": "41dfb84d-f006-4d47-bec1-9784b2a4621d"
      },
      "outputs": [
        {
          "output_type": "execute_result",
          "data": {
            "text/plain": [
              "Network(\n",
              "  (hidden): Linear(in_features=784, out_features=256, bias=True)\n",
              "  (output): Linear(in_features=256, out_features=10, bias=True)\n",
              "  (sigmoid): Sigmoid()\n",
              "  (softmax): Softmax(dim=1)\n",
              ")"
            ]
          },
          "metadata": {},
          "execution_count": 11
        }
      ],
      "source": [
        "# Create the network and look at it's text representation\n",
        "model = Network()\n",
        "model"
      ]
    },
    {
      "cell_type": "markdown",
      "metadata": {
        "id": "uSqjaf-ds83b"
      },
      "source": [
        "You can define the network somewhat more concisely and clearly using the `torch.nn.functional` module. This is the most common way you'll see networks defined as many operations are simple element-wise functions. We normally import this module as `F`, `import torch.nn.functional as F`."
      ]
    },
    {
      "cell_type": "code",
      "execution_count": 12,
      "metadata": {
        "collapsed": true,
        "id": "7CtrG0Qrs83b"
      },
      "outputs": [],
      "source": [
        "import torch.nn.functional as F\n",
        "\n",
        "class Network(nn.Module):\n",
        "    def __init__(self):\n",
        "        super().__init__()\n",
        "        # Inputs to hidden layer linear transformation\n",
        "        self.hidden = nn.Linear(784, 256)\n",
        "        # Output layer, 10 units - one for each digit\n",
        "        self.output = nn.Linear(256, 10)\n",
        "\n",
        "    def forward(self, x):\n",
        "        # Hidden layer with sigmoid activation\n",
        "        x = F.sigmoid(self.hidden(x))\n",
        "        # Output layer with softmax activation\n",
        "        x = F.softmax(self.output(x), dim=1)\n",
        "\n",
        "        return x"
      ]
    },
    {
      "cell_type": "markdown",
      "metadata": {
        "id": "zTKK79zGs83c"
      },
      "source": [
        "### Activation functions\n",
        "\n",
        "So far we've only been looking at the sigmoid activation function, but in general any function can be used as an activation function. The only requirement is that for a network to approximate a non-linear function, the activation functions must be non-linear. Here are a few more examples of common activation functions: Tanh (hyperbolic tangent), and ReLU (rectified linear unit).\n",
        "\n",
        "<img src=\"assets/activation.png\" width=700px>\n",
        "\n",
        "In practice, the ReLU function is used almost exclusively as the activation function for hidden layers."
      ]
    },
    {
      "cell_type": "markdown",
      "metadata": {
        "id": "coN4Kbzns83c"
      },
      "source": [
        "### Your Turn to Build a Network\n",
        "\n",
        "<img src=\"assets/mlp_mnist.png\" width=600px>\n",
        "\n",
        "> **Exercise:** Create a network with 784 input units, a hidden layer with 128 units and a ReLU activation, then a hidden layer with 64 units and a ReLU activation, and finally an output layer with a softmax activation as shown above. You can use a ReLU activation with the `nn.ReLU` module or `F.relu` function.\n",
        "\n",
        "It's good practice to name your layers by their type of network, for instance 'fc' to represent a fully-connected layer. As you code your solution, use `fc1`, `fc2`, and `fc3` as your layer names."
      ]
    },
    {
      "cell_type": "code",
      "execution_count": 22,
      "metadata": {
        "collapsed": true,
        "scrolled": true,
        "id": "RuyYdFTJs83d"
      },
      "outputs": [],
      "source": [
        "## Your solution here\n",
        "from torch import nn\n",
        "\n",
        "class Network(nn.Module):\n",
        "    def __init__(self):\n",
        "        super().__init__()\n",
        "\n",
        "        # Inputs to hidden layer linear transformation\n",
        "        self.fc1 = nn.Linear(784, 128)\n",
        "\t      # Inputs to hidden layer 2 linear transformation\n",
        "        self.fc2 = nn.Linear(128, 64)\n",
        "\n",
        "        # Output layer, 10 units - one for each digit\n",
        "        self.fc3 = nn.Linear(64, 10)\n",
        "\n",
        "        # Define sigmoid activation and softmax output\n",
        "        self.relu = nn.ReLU()\n",
        "        self.softmax = nn.Softmax(dim=1)\n",
        "\n",
        "    def forward(self, x):\n",
        "        # Pass the input tensor through each of our operations\n",
        "        x = self.fc1(x)\n",
        "        x = self.relu(x)\n",
        "        x = self.fc2(x)\n",
        "        x = self.relu(x)\n",
        "        x = self.fc3(x)\n",
        "        x = self.softmax(x)\n",
        "\n",
        "        return x"
      ]
    },
    {
      "cell_type": "code",
      "source": [
        "import torch.nn.functional as F\n",
        "\n",
        "class Network1(nn.Module):\n",
        "    def __init__(self):\n",
        "        super().__init__()\n",
        "        # Inputs to hidden layer linear transformation\n",
        "        self.fc1 = nn.Linear(784, 128)\n",
        "\n",
        "        #input to the second hidden layer\n",
        "        self.fc2 = nn.Linear(128, 64)\n",
        "        # Output layer, 10 units - one for each digit\n",
        "        self.fc3 = nn.Linear(64, 10)\n",
        "\n",
        "    def forward(self, x):\n",
        "        # Hidden layer with relu activation\n",
        "        x = F.relu(self.fc1(x))\n",
        "        # Hidden layer 2 with relu activation\n",
        "        x = F.relu(self.fc2(x))\n",
        "        # Output layer with softmax activation\n",
        "        x = F.softmax(self.fc3(x), dim=1)\n",
        "\n",
        "        return x"
      ],
      "metadata": {
        "id": "fHLe7Isc8Tea"
      },
      "execution_count": 29,
      "outputs": []
    },
    {
      "cell_type": "code",
      "source": [
        "model = Network()\n",
        "Network"
      ],
      "metadata": {
        "colab": {
          "base_uri": "https://localhost:8080/"
        },
        "id": "O4-phe_h6yxq",
        "outputId": "51ec5d6c-1759-4124-8dd3-6d8c1a8e92f0"
      },
      "execution_count": 28,
      "outputs": [
        {
          "output_type": "execute_result",
          "data": {
            "text/plain": [
              "__main__.Network"
            ]
          },
          "metadata": {},
          "execution_count": 28
        }
      ]
    },
    {
      "cell_type": "code",
      "source": [
        "model = Network1()\n",
        "Network1()"
      ],
      "metadata": {
        "colab": {
          "base_uri": "https://localhost:8080/"
        },
        "id": "PUUgchCt8_Um",
        "outputId": "8efa5265-20f5-4973-fa4e-12215629c147"
      },
      "execution_count": 30,
      "outputs": [
        {
          "output_type": "execute_result",
          "data": {
            "text/plain": [
              "Network1(\n",
              "  (fc1): Linear(in_features=784, out_features=128, bias=True)\n",
              "  (fc2): Linear(in_features=128, out_features=64, bias=True)\n",
              "  (fc3): Linear(in_features=64, out_features=10, bias=True)\n",
              ")"
            ]
          },
          "metadata": {},
          "execution_count": 30
        }
      ]
    },
    {
      "cell_type": "markdown",
      "metadata": {
        "id": "pg-g-XlMs83d"
      },
      "source": [
        "### Initializing weights and biases\n",
        "\n",
        "The weights and such are automatically initialized for you, but it's possible to customize how they are initialized. The weights and biases are tensors attached to the layer you defined, you can get them with `model.fc1.weight` for instance."
      ]
    },
    {
      "cell_type": "code",
      "execution_count": 31,
      "metadata": {
        "collapsed": true,
        "colab": {
          "base_uri": "https://localhost:8080/"
        },
        "id": "kkXrca9is83d",
        "outputId": "91619a3f-0600-48a4-892a-504a2fa74f0f"
      },
      "outputs": [
        {
          "output_type": "stream",
          "name": "stdout",
          "text": [
            "Parameter containing:\n",
            "tensor([[-1.0654e-02,  3.2727e-02, -6.6521e-03,  ..., -1.7655e-03,\n",
            "         -1.5800e-02,  1.4923e-02],\n",
            "        [ 1.4060e-02,  6.2623e-03, -1.4900e-02,  ...,  1.3448e-02,\n",
            "         -1.4952e-03,  1.9671e-02],\n",
            "        [ 2.5303e-02, -2.3876e-05, -1.2534e-02,  ...,  4.1064e-03,\n",
            "          3.3655e-02,  2.9484e-02],\n",
            "        ...,\n",
            "        [ 1.7198e-02,  9.1852e-03,  1.1444e-02,  ...,  2.7164e-02,\n",
            "          1.6966e-02,  2.2344e-02],\n",
            "        [-3.5525e-02, -8.3353e-03,  9.2974e-03,  ...,  9.6318e-03,\n",
            "         -4.7970e-03, -8.7969e-03],\n",
            "        [-2.7144e-02,  2.5504e-02,  1.1245e-02,  ..., -4.7587e-03,\n",
            "         -2.2474e-02, -3.5105e-02]], requires_grad=True)\n",
            "Parameter containing:\n",
            "tensor([-0.0251, -0.0086,  0.0014,  0.0125,  0.0067, -0.0347,  0.0320, -0.0106,\n",
            "         0.0345,  0.0222, -0.0161,  0.0047, -0.0185, -0.0293, -0.0166,  0.0185,\n",
            "         0.0345,  0.0251,  0.0305, -0.0046, -0.0009,  0.0204,  0.0149, -0.0210,\n",
            "         0.0339, -0.0218, -0.0198,  0.0316,  0.0150, -0.0253, -0.0190, -0.0035,\n",
            "         0.0333,  0.0136,  0.0341,  0.0293,  0.0322,  0.0355,  0.0203,  0.0135,\n",
            "        -0.0357, -0.0144, -0.0109,  0.0088, -0.0192, -0.0059,  0.0173,  0.0308,\n",
            "         0.0015,  0.0230, -0.0222, -0.0004, -0.0112,  0.0203, -0.0118, -0.0328,\n",
            "         0.0275, -0.0305, -0.0260,  0.0060, -0.0160,  0.0069, -0.0131, -0.0086,\n",
            "        -0.0163,  0.0247,  0.0178,  0.0211,  0.0227, -0.0035, -0.0138, -0.0139,\n",
            "         0.0145, -0.0029, -0.0056,  0.0134, -0.0346,  0.0249,  0.0254,  0.0318,\n",
            "        -0.0296, -0.0112,  0.0030,  0.0051,  0.0353,  0.0206,  0.0181, -0.0037,\n",
            "        -0.0112, -0.0265, -0.0306, -0.0153, -0.0340, -0.0165, -0.0236, -0.0260,\n",
            "         0.0191, -0.0311, -0.0080,  0.0092, -0.0141,  0.0154,  0.0209, -0.0176,\n",
            "        -0.0033,  0.0252,  0.0245,  0.0014, -0.0162, -0.0112,  0.0192,  0.0277,\n",
            "        -0.0322,  0.0173,  0.0226,  0.0305, -0.0262, -0.0304, -0.0327, -0.0270,\n",
            "         0.0184, -0.0210,  0.0249, -0.0294, -0.0286,  0.0226,  0.0191,  0.0269],\n",
            "       requires_grad=True)\n"
          ]
        }
      ],
      "source": [
        "print(model.fc1.weight)\n",
        "print(model.fc1.bias)"
      ]
    },
    {
      "cell_type": "markdown",
      "metadata": {
        "id": "6EAtOsWls83e"
      },
      "source": [
        "For custom initialization, we want to modify these tensors in place. These are actually autograd *Variables*, so we need to get back the actual tensors with `model.fc1.weight.data`. Once we have the tensors, we can fill them with zeros (for biases) or random normal values."
      ]
    },
    {
      "cell_type": "code",
      "execution_count": 32,
      "metadata": {
        "collapsed": true,
        "colab": {
          "base_uri": "https://localhost:8080/"
        },
        "id": "V9nDTUIks83e",
        "outputId": "ac0df86e-08cb-4af3-9c73-9d125c238498"
      },
      "outputs": [
        {
          "output_type": "execute_result",
          "data": {
            "text/plain": [
              "tensor([0., 0., 0., 0., 0., 0., 0., 0., 0., 0., 0., 0., 0., 0., 0., 0., 0., 0., 0., 0., 0., 0., 0., 0.,\n",
              "        0., 0., 0., 0., 0., 0., 0., 0., 0., 0., 0., 0., 0., 0., 0., 0., 0., 0., 0., 0., 0., 0., 0., 0.,\n",
              "        0., 0., 0., 0., 0., 0., 0., 0., 0., 0., 0., 0., 0., 0., 0., 0., 0., 0., 0., 0., 0., 0., 0., 0.,\n",
              "        0., 0., 0., 0., 0., 0., 0., 0., 0., 0., 0., 0., 0., 0., 0., 0., 0., 0., 0., 0., 0., 0., 0., 0.,\n",
              "        0., 0., 0., 0., 0., 0., 0., 0., 0., 0., 0., 0., 0., 0., 0., 0., 0., 0., 0., 0., 0., 0., 0., 0.,\n",
              "        0., 0., 0., 0., 0., 0., 0., 0.])"
            ]
          },
          "metadata": {},
          "execution_count": 32
        }
      ],
      "source": [
        "# Set biases to all zeros\n",
        "model.fc1.bias.data.fill_(0)"
      ]
    },
    {
      "cell_type": "code",
      "execution_count": 33,
      "metadata": {
        "collapsed": true,
        "colab": {
          "base_uri": "https://localhost:8080/"
        },
        "id": "2vi1xlY1s83e",
        "outputId": "5faec1b1-9443-4639-85ce-5f6fc2c1796c"
      },
      "outputs": [
        {
          "output_type": "execute_result",
          "data": {
            "text/plain": [
              "tensor([[ 1.4819e-02, -5.0369e-04,  1.5178e-02,  ...,  1.0221e-02,\n",
              "          1.0569e-02, -7.8420e-03],\n",
              "        [ 1.3467e-02,  2.2867e-03, -2.6825e-03,  ..., -1.6880e-02,\n",
              "         -1.4591e-02, -1.5995e-02],\n",
              "        [ 2.7644e-05, -5.4547e-03,  5.0369e-03,  ..., -1.1931e-02,\n",
              "          3.6280e-03, -1.2641e-02],\n",
              "        ...,\n",
              "        [ 4.0832e-03,  3.4832e-03,  1.5636e-02,  ..., -1.0937e-02,\n",
              "          2.5870e-03, -4.0078e-03],\n",
              "        [-3.4401e-03,  1.0203e-03,  9.8302e-04,  ...,  6.9708e-04,\n",
              "          1.1432e-02, -2.1662e-02],\n",
              "        [ 1.2666e-02,  1.1364e-02,  1.1967e-02,  ...,  2.6676e-03,\n",
              "         -1.7281e-02, -1.2423e-02]])"
            ]
          },
          "metadata": {},
          "execution_count": 33
        }
      ],
      "source": [
        "# sample from random normal with standard dev = 0.01\n",
        "model.fc1.weight.data.normal_(std=0.01)"
      ]
    },
    {
      "cell_type": "markdown",
      "metadata": {
        "id": "H7zmpWJEs83f"
      },
      "source": [
        "### Forward pass\n",
        "\n",
        "Now that we have a network, let's see what happens when we pass in an image."
      ]
    },
    {
      "cell_type": "code",
      "execution_count": 34,
      "metadata": {
        "collapsed": true,
        "colab": {
          "base_uri": "https://localhost:8080/",
          "height": 246
        },
        "id": "ZaUEvBzVs83f",
        "outputId": "724ccead-53af-4648-d93f-e1231f8ca564"
      },
      "outputs": [
        {
          "output_type": "error",
          "ename": "AttributeError",
          "evalue": "ignored",
          "traceback": [
            "\u001b[0;31m---------------------------------------------------------------------------\u001b[0m",
            "\u001b[0;31mAttributeError\u001b[0m                            Traceback (most recent call last)",
            "\u001b[0;32m<ipython-input-34-3760ccc5c3dd>\u001b[0m in \u001b[0;36m<cell line: 3>\u001b[0;34m()\u001b[0m\n\u001b[1;32m      1\u001b[0m \u001b[0;31m# Grab some data\u001b[0m\u001b[0;34m\u001b[0m\u001b[0;34m\u001b[0m\u001b[0m\n\u001b[1;32m      2\u001b[0m \u001b[0mdataiter\u001b[0m \u001b[0;34m=\u001b[0m \u001b[0miter\u001b[0m\u001b[0;34m(\u001b[0m\u001b[0mtrainloader\u001b[0m\u001b[0;34m)\u001b[0m\u001b[0;34m\u001b[0m\u001b[0;34m\u001b[0m\u001b[0m\n\u001b[0;32m----> 3\u001b[0;31m \u001b[0mimages\u001b[0m\u001b[0;34m,\u001b[0m \u001b[0mlabels\u001b[0m \u001b[0;34m=\u001b[0m \u001b[0mdataiter\u001b[0m\u001b[0;34m.\u001b[0m\u001b[0mnext\u001b[0m\u001b[0;34m(\u001b[0m\u001b[0;34m)\u001b[0m\u001b[0;34m\u001b[0m\u001b[0;34m\u001b[0m\u001b[0m\n\u001b[0m\u001b[1;32m      4\u001b[0m \u001b[0;34m\u001b[0m\u001b[0m\n\u001b[1;32m      5\u001b[0m \u001b[0;31m# Resize images into a 1D vector, new shape is (batch size, color channels, image pixels)\u001b[0m\u001b[0;34m\u001b[0m\u001b[0;34m\u001b[0m\u001b[0m\n",
            "\u001b[0;31mAttributeError\u001b[0m: '_SingleProcessDataLoaderIter' object has no attribute 'next'"
          ]
        }
      ],
      "source": [
        "# Grab some data\n",
        "dataiter = iter(trainloader)\n",
        "images, labels = dataiter.next()\n",
        "\n",
        "# Resize images into a 1D vector, new shape is (batch size, color channels, image pixels)\n",
        "images.resize_(64, 1, 784)\n",
        "# or images.resize_(images.shape[0], 1, 784) to automatically get batch size\n",
        "\n",
        "# Forward pass through the network\n",
        "img_idx = 0\n",
        "ps = model.forward(images[img_idx,:])\n",
        "\n",
        "img = images[img_idx]\n",
        "helper.view_classify(img.view(1, 28, 28), ps)"
      ]
    },
    {
      "cell_type": "markdown",
      "metadata": {
        "id": "YQQSZrcas83g"
      },
      "source": [
        "As you can see above, our network has basically no idea what this digit is. It's because we haven't trained it yet, all the weights are random!\n",
        "\n",
        "### Using `nn.Sequential`\n",
        "\n",
        "PyTorch provides a convenient way to build networks like this where a tensor is passed sequentially through operations, `nn.Sequential` ([documentation](https://pytorch.org/docs/master/nn.html#torch.nn.Sequential)). Using this to build the equivalent network:"
      ]
    },
    {
      "cell_type": "code",
      "execution_count": 35,
      "metadata": {
        "collapsed": true,
        "colab": {
          "base_uri": "https://localhost:8080/",
          "height": 350
        },
        "id": "taADBfF0s83g",
        "outputId": "0798679b-7ced-4308-f289-f7ee4fe0465f"
      },
      "outputs": [
        {
          "output_type": "stream",
          "name": "stdout",
          "text": [
            "Sequential(\n",
            "  (0): Linear(in_features=784, out_features=128, bias=True)\n",
            "  (1): ReLU()\n",
            "  (2): Linear(in_features=128, out_features=64, bias=True)\n",
            "  (3): ReLU()\n",
            "  (4): Linear(in_features=64, out_features=10, bias=True)\n",
            "  (5): Softmax(dim=1)\n",
            ")\n"
          ]
        },
        {
          "output_type": "error",
          "ename": "AttributeError",
          "evalue": "ignored",
          "traceback": [
            "\u001b[0;31m---------------------------------------------------------------------------\u001b[0m",
            "\u001b[0;31mAttributeError\u001b[0m                            Traceback (most recent call last)",
            "\u001b[0;32m<ipython-input-35-2efaf9529135>\u001b[0m in \u001b[0;36m<cell line: 19>\u001b[0;34m()\u001b[0m\n\u001b[1;32m     17\u001b[0m \u001b[0mimages\u001b[0m\u001b[0;34m.\u001b[0m\u001b[0mresize_\u001b[0m\u001b[0;34m(\u001b[0m\u001b[0mimages\u001b[0m\u001b[0;34m.\u001b[0m\u001b[0mshape\u001b[0m\u001b[0;34m[\u001b[0m\u001b[0;36m0\u001b[0m\u001b[0;34m]\u001b[0m\u001b[0;34m,\u001b[0m \u001b[0;36m1\u001b[0m\u001b[0;34m,\u001b[0m \u001b[0;36m784\u001b[0m\u001b[0;34m)\u001b[0m\u001b[0;34m\u001b[0m\u001b[0;34m\u001b[0m\u001b[0m\n\u001b[1;32m     18\u001b[0m \u001b[0mps\u001b[0m \u001b[0;34m=\u001b[0m \u001b[0mmodel\u001b[0m\u001b[0;34m.\u001b[0m\u001b[0mforward\u001b[0m\u001b[0;34m(\u001b[0m\u001b[0mimages\u001b[0m\u001b[0;34m[\u001b[0m\u001b[0;36m0\u001b[0m\u001b[0;34m,\u001b[0m\u001b[0;34m:\u001b[0m\u001b[0;34m]\u001b[0m\u001b[0;34m)\u001b[0m\u001b[0;34m\u001b[0m\u001b[0;34m\u001b[0m\u001b[0m\n\u001b[0;32m---> 19\u001b[0;31m \u001b[0mhelper\u001b[0m\u001b[0;34m.\u001b[0m\u001b[0mview_classify\u001b[0m\u001b[0;34m(\u001b[0m\u001b[0mimages\u001b[0m\u001b[0;34m[\u001b[0m\u001b[0;36m0\u001b[0m\u001b[0;34m]\u001b[0m\u001b[0;34m.\u001b[0m\u001b[0mview\u001b[0m\u001b[0;34m(\u001b[0m\u001b[0;36m1\u001b[0m\u001b[0;34m,\u001b[0m \u001b[0;36m28\u001b[0m\u001b[0;34m,\u001b[0m \u001b[0;36m28\u001b[0m\u001b[0;34m)\u001b[0m\u001b[0;34m,\u001b[0m \u001b[0mps\u001b[0m\u001b[0;34m)\u001b[0m\u001b[0;34m\u001b[0m\u001b[0;34m\u001b[0m\u001b[0m\n\u001b[0m",
            "\u001b[0;31mAttributeError\u001b[0m: module 'helper' has no attribute 'view_classify'"
          ]
        }
      ],
      "source": [
        "# Hyperparameters for our network\n",
        "input_size = 784\n",
        "hidden_sizes = [128, 64]\n",
        "output_size = 10\n",
        "\n",
        "# Build a feed-forward network\n",
        "model = nn.Sequential(nn.Linear(input_size, hidden_sizes[0]),\n",
        "                      nn.ReLU(),\n",
        "                      nn.Linear(hidden_sizes[0], hidden_sizes[1]),\n",
        "                      nn.ReLU(),\n",
        "                      nn.Linear(hidden_sizes[1], output_size),\n",
        "                      nn.Softmax(dim=1))\n",
        "print(model)\n",
        "\n",
        "# Forward pass through the network and display output\n",
        "images, labels = next(iter(trainloader))\n",
        "images.resize_(images.shape[0], 1, 784)\n",
        "ps = model.forward(images[0,:])\n",
        "helper.view_classify(images[0].view(1, 28, 28), ps)"
      ]
    },
    {
      "cell_type": "markdown",
      "metadata": {
        "id": "pmOTIRM-s83g"
      },
      "source": [
        "Here our model is the same as before: 784 input units, a hidden layer with 128 units, ReLU activation, 64 unit hidden layer, another ReLU, then the output layer with 10 units, and the softmax output.\n",
        "\n",
        "The operations are available by passing in the appropriate index. For example, if you want to get first Linear operation and look at the weights, you'd use `model[0]`."
      ]
    },
    {
      "cell_type": "code",
      "execution_count": 36,
      "metadata": {
        "collapsed": true,
        "colab": {
          "base_uri": "https://localhost:8080/"
        },
        "id": "nSRAhdi0s83g",
        "outputId": "d94d4703-2824-4332-9a03-1f765df2e5a8"
      },
      "outputs": [
        {
          "output_type": "stream",
          "name": "stdout",
          "text": [
            "Linear(in_features=784, out_features=128, bias=True)\n"
          ]
        },
        {
          "output_type": "execute_result",
          "data": {
            "text/plain": [
              "Parameter containing:\n",
              "tensor([[ 0.0249, -0.0263,  0.0265,  ..., -0.0120, -0.0163,  0.0187],\n",
              "        [-0.0071,  0.0174,  0.0243,  ...,  0.0129,  0.0196,  0.0043],\n",
              "        [ 0.0023,  0.0240,  0.0017,  ..., -0.0052,  0.0131,  0.0122],\n",
              "        ...,\n",
              "        [ 0.0185, -0.0291,  0.0131,  ...,  0.0140, -0.0059, -0.0228],\n",
              "        [-0.0071, -0.0302,  0.0132,  ...,  0.0341,  0.0335, -0.0205],\n",
              "        [ 0.0310, -0.0131, -0.0166,  ..., -0.0316,  0.0052,  0.0182]],\n",
              "       requires_grad=True)"
            ]
          },
          "metadata": {},
          "execution_count": 36
        }
      ],
      "source": [
        "print(model[0])\n",
        "model[0].weight"
      ]
    },
    {
      "cell_type": "markdown",
      "metadata": {
        "id": "cIkMbfris83g"
      },
      "source": [
        "You can also pass in an `OrderedDict` to name the individual layers and operations, instead of using incremental integers. Note that dictionary keys must be unique, so _each operation must have a different name_."
      ]
    },
    {
      "cell_type": "code",
      "execution_count": 37,
      "metadata": {
        "collapsed": true,
        "colab": {
          "base_uri": "https://localhost:8080/"
        },
        "id": "1CqOGxans83h",
        "outputId": "62a6c576-d9a9-4225-999c-2aba2a728df2"
      },
      "outputs": [
        {
          "output_type": "execute_result",
          "data": {
            "text/plain": [
              "Sequential(\n",
              "  (fc1): Linear(in_features=784, out_features=128, bias=True)\n",
              "  (relu1): ReLU()\n",
              "  (fc2): Linear(in_features=128, out_features=64, bias=True)\n",
              "  (relu2): ReLU()\n",
              "  (output): Linear(in_features=64, out_features=10, bias=True)\n",
              "  (softmax): Softmax(dim=1)\n",
              ")"
            ]
          },
          "metadata": {},
          "execution_count": 37
        }
      ],
      "source": [
        "from collections import OrderedDict\n",
        "model = nn.Sequential(OrderedDict([\n",
        "                      ('fc1', nn.Linear(input_size, hidden_sizes[0])),\n",
        "                      ('relu1', nn.ReLU()),\n",
        "                      ('fc2', nn.Linear(hidden_sizes[0], hidden_sizes[1])),\n",
        "                      ('relu2', nn.ReLU()),\n",
        "                      ('output', nn.Linear(hidden_sizes[1], output_size)),\n",
        "                      ('softmax', nn.Softmax(dim=1))]))\n",
        "model"
      ]
    },
    {
      "cell_type": "markdown",
      "metadata": {
        "id": "NBSMQixWs83h"
      },
      "source": [
        "Now you can access layers either by integer or the name"
      ]
    },
    {
      "cell_type": "code",
      "execution_count": 38,
      "metadata": {
        "collapsed": true,
        "colab": {
          "base_uri": "https://localhost:8080/"
        },
        "id": "AVt_YkT2s83h",
        "outputId": "ad87d4d6-bd42-4db7-e37e-4ef690cc22d0"
      },
      "outputs": [
        {
          "output_type": "stream",
          "name": "stdout",
          "text": [
            "Linear(in_features=784, out_features=128, bias=True)\n",
            "Linear(in_features=784, out_features=128, bias=True)\n"
          ]
        }
      ],
      "source": [
        "print(model[0])\n",
        "print(model.fc1)"
      ]
    },
    {
      "cell_type": "markdown",
      "metadata": {
        "id": "7-sGqOz3s83i"
      },
      "source": [
        "In the next notebook, we'll see how we can train a neural network to accuractly predict the numbers appearing in the MNIST images."
      ]
    }
  ],
  "metadata": {
    "kernelspec": {
      "display_name": "Python [default]",
      "language": "python",
      "name": "python3"
    },
    "language_info": {
      "codemirror_mode": {
        "name": "ipython",
        "version": 3
      },
      "file_extension": ".py",
      "mimetype": "text/x-python",
      "name": "python",
      "nbconvert_exporter": "python",
      "pygments_lexer": "ipython3",
      "version": "3.6.4"
    },
    "colab": {
      "provenance": [],
      "include_colab_link": true
    }
  },
  "nbformat": 4,
  "nbformat_minor": 0
}