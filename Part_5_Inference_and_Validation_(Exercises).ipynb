{
  "cells": [
    {
      "cell_type": "markdown",
      "metadata": {
        "id": "view-in-github",
        "colab_type": "text"
      },
      "source": [
        "<a href=\"https://colab.research.google.com/github/broskunta/Udacity-s-Intro-to-Deep-Learning-with-PyTorch/blob/main/Part_5_Inference_and_Validation_(Exercises).ipynb\" target=\"_parent\"><img src=\"https://colab.research.google.com/assets/colab-badge.svg\" alt=\"Open In Colab\"/></a>"
      ]
    },
    {
      "cell_type": "markdown",
      "metadata": {
        "id": "pMQc8Ay1caZx"
      },
      "source": [
        "# Inference and Validation\n",
        "\n",
        "Now that you have a trained network, you can use it for making predictions. This is typically called **inference**, a term borrowed from statistics. However, neural networks have a tendency to perform *too well* on the training data and aren't able to generalize to data that hasn't been seen before. This is called **overfitting** and it impairs inference performance. To test for overfitting while training, we measure the performance on data not in the training set called the **validation** set. We avoid overfitting through regularization such as dropout while monitoring the validation performance during training. In this notebook, I'll show you how to do this in PyTorch.\n",
        "\n",
        "As usual, let's start by loading the dataset through torchvision. You'll learn more about torchvision and loading data in a later part. This time we'll be taking advantage of the test set which you can get by setting `train=False` here:\n",
        "\n",
        "```python\n",
        "testset = datasets.FashionMNIST('~/.pytorch/F_MNIST_data/', download=True, train=False, transform=transform)\n",
        "```\n",
        "\n",
        "The test set contains images just like the training set. Typically you'll see 10-20% of the original dataset held out for testing and validation with the rest being used for training."
      ]
    },
    {
      "cell_type": "code",
      "source": [
        "!wget -c https://raw.githubusercontent.com/udacity/deep-learning-v2-pytorch/master/intro-to-pytorch/helper.py"
      ],
      "metadata": {
        "colab": {
          "base_uri": "https://localhost:8080/"
        },
        "id": "iYPRtAb6wrDv",
        "outputId": "3f6c6893-61b6-45f8-c840-5edfecd3ef76"
      },
      "execution_count": 22,
      "outputs": [
        {
          "output_type": "stream",
          "name": "stdout",
          "text": [
            "--2023-09-04 15:14:49--  https://raw.githubusercontent.com/udacity/deep-learning-v2-pytorch/master/intro-to-pytorch/helper.py\n",
            "Resolving raw.githubusercontent.com (raw.githubusercontent.com)... 185.199.108.133, 185.199.109.133, 185.199.110.133, ...\n",
            "Connecting to raw.githubusercontent.com (raw.githubusercontent.com)|185.199.108.133|:443... connected.\n",
            "HTTP request sent, awaiting response... 200 OK\n",
            "Length: 2813 (2.7K) [text/plain]\n",
            "Saving to: ‘helper.py’\n",
            "\n",
            "\rhelper.py             0%[                    ]       0  --.-KB/s               \rhelper.py           100%[===================>]   2.75K  --.-KB/s    in 0s      \n",
            "\n",
            "2023-09-04 15:14:49 (39.0 MB/s) - ‘helper.py’ saved [2813/2813]\n",
            "\n"
          ]
        }
      ]
    },
    {
      "cell_type": "code",
      "execution_count": 1,
      "metadata": {
        "colab": {
          "base_uri": "https://localhost:8080/"
        },
        "id": "Peup3IX3caZ1",
        "outputId": "86b48403-0f24-4356-eee2-d25081e4e345"
      },
      "outputs": [
        {
          "output_type": "stream",
          "name": "stdout",
          "text": [
            "Downloading http://fashion-mnist.s3-website.eu-central-1.amazonaws.com/train-images-idx3-ubyte.gz\n",
            "Downloading http://fashion-mnist.s3-website.eu-central-1.amazonaws.com/train-images-idx3-ubyte.gz to /root/.pytorch/F_MNIST_data/FashionMNIST/raw/train-images-idx3-ubyte.gz\n"
          ]
        },
        {
          "output_type": "stream",
          "name": "stderr",
          "text": [
            "100%|██████████| 26421880/26421880 [00:01<00:00, 18971244.42it/s]\n"
          ]
        },
        {
          "output_type": "stream",
          "name": "stdout",
          "text": [
            "Extracting /root/.pytorch/F_MNIST_data/FashionMNIST/raw/train-images-idx3-ubyte.gz to /root/.pytorch/F_MNIST_data/FashionMNIST/raw\n",
            "\n",
            "Downloading http://fashion-mnist.s3-website.eu-central-1.amazonaws.com/train-labels-idx1-ubyte.gz\n",
            "Downloading http://fashion-mnist.s3-website.eu-central-1.amazonaws.com/train-labels-idx1-ubyte.gz to /root/.pytorch/F_MNIST_data/FashionMNIST/raw/train-labels-idx1-ubyte.gz\n"
          ]
        },
        {
          "output_type": "stream",
          "name": "stderr",
          "text": [
            "100%|██████████| 29515/29515 [00:00<00:00, 337045.75it/s]\n"
          ]
        },
        {
          "output_type": "stream",
          "name": "stdout",
          "text": [
            "Extracting /root/.pytorch/F_MNIST_data/FashionMNIST/raw/train-labels-idx1-ubyte.gz to /root/.pytorch/F_MNIST_data/FashionMNIST/raw\n",
            "\n",
            "Downloading http://fashion-mnist.s3-website.eu-central-1.amazonaws.com/t10k-images-idx3-ubyte.gz\n",
            "Downloading http://fashion-mnist.s3-website.eu-central-1.amazonaws.com/t10k-images-idx3-ubyte.gz to /root/.pytorch/F_MNIST_data/FashionMNIST/raw/t10k-images-idx3-ubyte.gz\n"
          ]
        },
        {
          "output_type": "stream",
          "name": "stderr",
          "text": [
            "100%|██████████| 4422102/4422102 [00:00<00:00, 6069957.09it/s]\n"
          ]
        },
        {
          "output_type": "stream",
          "name": "stdout",
          "text": [
            "Extracting /root/.pytorch/F_MNIST_data/FashionMNIST/raw/t10k-images-idx3-ubyte.gz to /root/.pytorch/F_MNIST_data/FashionMNIST/raw\n",
            "\n",
            "Downloading http://fashion-mnist.s3-website.eu-central-1.amazonaws.com/t10k-labels-idx1-ubyte.gz\n",
            "Downloading http://fashion-mnist.s3-website.eu-central-1.amazonaws.com/t10k-labels-idx1-ubyte.gz to /root/.pytorch/F_MNIST_data/FashionMNIST/raw/t10k-labels-idx1-ubyte.gz\n"
          ]
        },
        {
          "output_type": "stream",
          "name": "stderr",
          "text": [
            "100%|██████████| 5148/5148 [00:00<00:00, 12042541.55it/s]"
          ]
        },
        {
          "output_type": "stream",
          "name": "stdout",
          "text": [
            "Extracting /root/.pytorch/F_MNIST_data/FashionMNIST/raw/t10k-labels-idx1-ubyte.gz to /root/.pytorch/F_MNIST_data/FashionMNIST/raw\n",
            "\n"
          ]
        },
        {
          "output_type": "stream",
          "name": "stderr",
          "text": [
            "\n"
          ]
        }
      ],
      "source": [
        "import torch\n",
        "from torchvision import datasets, transforms\n",
        "\n",
        "# Define a transform to normalize the data\n",
        "transform = transforms.Compose([transforms.ToTensor(),\n",
        "                                transforms.Normalize((0.5,), (0.5,))])\n",
        "# Download and load the training data\n",
        "trainset = datasets.FashionMNIST('~/.pytorch/F_MNIST_data/', download=True, train=True, transform=transform)\n",
        "trainloader = torch.utils.data.DataLoader(trainset, batch_size=64, shuffle=True)\n",
        "\n",
        "# Download and load the test data\n",
        "testset = datasets.FashionMNIST('~/.pytorch/F_MNIST_data/', download=True, train=False, transform=transform)\n",
        "testloader = torch.utils.data.DataLoader(testset, batch_size=64, shuffle=True)"
      ]
    },
    {
      "cell_type": "markdown",
      "metadata": {
        "id": "7IIvnEk6caZ3"
      },
      "source": [
        "Here I'll create a model like normal, using the same one from my solution for part 4."
      ]
    },
    {
      "cell_type": "code",
      "execution_count": 2,
      "metadata": {
        "id": "gfvTfvYacaZ3"
      },
      "outputs": [],
      "source": [
        "from torch import nn, optim\n",
        "import torch.nn.functional as F\n",
        "\n",
        "class Classifier(nn.Module):\n",
        "    def __init__(self):\n",
        "        super().__init__()\n",
        "        self.fc1 = nn.Linear(784, 256)\n",
        "        self.fc2 = nn.Linear(256, 128)\n",
        "        self.fc3 = nn.Linear(128, 64)\n",
        "        self.fc4 = nn.Linear(64, 10)\n",
        "\n",
        "    def forward(self, x):\n",
        "        # make sure input tensor is flattened\n",
        "        x = x.view(x.shape[0], -1)\n",
        "\n",
        "        x = F.relu(self.fc1(x))\n",
        "        x = F.relu(self.fc2(x))\n",
        "        x = F.relu(self.fc3(x))\n",
        "        x = F.log_softmax(self.fc4(x), dim=1)\n",
        "\n",
        "        return x"
      ]
    },
    {
      "cell_type": "markdown",
      "metadata": {
        "id": "XICFqRZ7caZ4"
      },
      "source": [
        "The goal of validation is to measure the model's performance on data that isn't part of the training set. Performance here is up to the developer to define though. Typically this is just accuracy, the percentage of classes the network predicted correctly. Other options are [precision and recall](https://en.wikipedia.org/wiki/Precision_and_recall#Definition_(classification_context)) and top-5 error rate. We'll focus on accuracy here. First I'll do a forward pass with one batch from the test set."
      ]
    },
    {
      "cell_type": "code",
      "execution_count": 3,
      "metadata": {
        "colab": {
          "base_uri": "https://localhost:8080/"
        },
        "id": "coTWwZOEcaZ4",
        "outputId": "fbcef8a2-305a-48e7-c9ee-59ff669a2e87"
      },
      "outputs": [
        {
          "output_type": "stream",
          "name": "stdout",
          "text": [
            "torch.Size([64, 10])\n"
          ]
        }
      ],
      "source": [
        "model = Classifier()\n",
        "\n",
        "images, labels = next(iter(testloader))\n",
        "# Get the class probabilities\n",
        "ps = torch.exp(model(images))\n",
        "# Make sure the shape is appropriate, we should get 10 class probabilities for 64 examples\n",
        "print(ps.shape)"
      ]
    },
    {
      "cell_type": "markdown",
      "metadata": {
        "id": "DOgEKqxacaZ5"
      },
      "source": [
        "With the probabilities, we can get the most likely class using the `ps.topk` method. This returns the $k$ highest values. Since we just want the most likely class, we can use `ps.topk(1)`. This returns a tuple of the top-$k$ values and the top-$k$ indices. If the highest value is the fifth element, we'll get back 4 as the index."
      ]
    },
    {
      "cell_type": "code",
      "execution_count": 4,
      "metadata": {
        "colab": {
          "base_uri": "https://localhost:8080/"
        },
        "id": "nFNydq-9caZ5",
        "outputId": "4c55a179-fc49-45ca-fe6f-c514883ee197"
      },
      "outputs": [
        {
          "output_type": "stream",
          "name": "stdout",
          "text": [
            "tensor([[9],\n",
            "        [9],\n",
            "        [9],\n",
            "        [9],\n",
            "        [9],\n",
            "        [9],\n",
            "        [9],\n",
            "        [9],\n",
            "        [9],\n",
            "        [9]])\n"
          ]
        }
      ],
      "source": [
        "top_p, top_class = ps.topk(1, dim=1)\n",
        "# Look at the most likely classes for the first 10 examples\n",
        "print(top_class[:10,:])"
      ]
    },
    {
      "cell_type": "markdown",
      "metadata": {
        "id": "KUiMrLDXcaZ6"
      },
      "source": [
        "Now we can check if the predicted classes match the labels. This is simple to do by equating `top_class` and `labels`, but we have to be careful of the shapes. Here `top_class` is a 2D tensor with shape `(64, 1)` while `labels` is 1D with shape `(64)`. To get the equality to work out the way we want, `top_class` and `labels` must have the same shape.\n",
        "\n",
        "If we do\n",
        "\n",
        "```python\n",
        "equals = top_class == labels\n",
        "```\n",
        "\n",
        "`equals` will have shape `(64, 64)`, try it yourself. What it's doing is comparing the one element in each row of `top_class` with each element in `labels` which returns 64 True/False boolean values for each row."
      ]
    },
    {
      "cell_type": "code",
      "execution_count": 6,
      "metadata": {
        "id": "8uHNymRMcaZ6"
      },
      "outputs": [],
      "source": [
        "equals = top_class == labels.view(*top_class.shape)"
      ]
    },
    {
      "cell_type": "markdown",
      "metadata": {
        "id": "Ii1PQxN3caZ7"
      },
      "source": [
        "Now we need to calculate the percentage of correct predictions. `equals` has binary values, either 0 or 1. This means that if we just sum up all the values and divide by the number of values, we get the percentage of correct predictions. This is the same operation as taking the mean, so we can get the accuracy with a call to `torch.mean`. If only it was that simple. If you try `torch.mean(equals)`, you'll get an error\n",
        "\n",
        "```\n",
        "RuntimeError: mean is not implemented for type torch.ByteTensor\n",
        "```\n",
        "\n",
        "This happens because `equals` has type `torch.ByteTensor` but `torch.mean` isn't implemented for tensors with that type. So we'll need to convert `equals` to a float tensor. Note that when we take `torch.mean` it returns a scalar tensor, to get the actual value as a float we'll need to do `accuracy.item()`."
      ]
    },
    {
      "cell_type": "code",
      "execution_count": 7,
      "metadata": {
        "colab": {
          "base_uri": "https://localhost:8080/"
        },
        "id": "s9pAIWnRcaZ7",
        "outputId": "ac7074bd-9496-47ea-c511-e0c93b00d1c8"
      },
      "outputs": [
        {
          "output_type": "stream",
          "name": "stdout",
          "text": [
            "Accuracy: 10.9375%\n"
          ]
        }
      ],
      "source": [
        "accuracy = torch.mean(equals.type(torch.FloatTensor))\n",
        "print(f'Accuracy: {accuracy.item()*100}%')"
      ]
    },
    {
      "cell_type": "markdown",
      "metadata": {
        "id": "yVOoORybcaZ7"
      },
      "source": [
        "The network is untrained so it's making random guesses and we should see an accuracy around 10%. Now let's train our network and include our validation pass so we can measure how well the network is performing on the test set. Since we're not updating our parameters in the validation pass, we can speed up our code by turning off gradients using `torch.no_grad()`:\n",
        "\n",
        "```python\n",
        "# turn off gradients\n",
        "with torch.no_grad():\n",
        "    # validation pass here\n",
        "    for images, labels in testloader:\n",
        "        ...\n",
        "```\n",
        "\n",
        ">**Exercise:** Implement the validation loop below and print out the total accuracy after the loop. You can largely copy and paste the code from above, but I suggest typing it in because writing it out yourself is essential for building the skill. In general you'll always learn more by typing it rather than copy-pasting. You should be able to get an accuracy above 80%."
      ]
    },
    {
      "cell_type": "code",
      "execution_count": 12,
      "metadata": {
        "colab": {
          "base_uri": "https://localhost:8080/"
        },
        "id": "IirTZX3kcaZ7",
        "outputId": "28308cf8-619f-4fcb-9123-de50cbba5e4f"
      },
      "outputs": [
        {
          "output_type": "stream",
          "name": "stdout",
          "text": [
            "Epoch: 1/30.. Training Loss: 0.519.. Test Loss: 0.464.. Test Accuracy: 0.005.. Accuracy: 81.25%\n",
            "Epoch: 2/30.. Training Loss: 0.394.. Test Loss: 0.394.. Test Accuracy: 0.006.. Accuracy: 87.5%\n",
            "Epoch: 3/30.. Training Loss: 0.355.. Test Loss: 0.393.. Test Accuracy: 0.005.. Accuracy: 81.25%\n",
            "Epoch: 4/30.. Training Loss: 0.332.. Test Loss: 0.378.. Test Accuracy: 0.005.. Accuracy: 75.0%\n",
            "Epoch: 5/30.. Training Loss: 0.319.. Test Loss: 0.393.. Test Accuracy: 0.006.. Accuracy: 93.75%\n",
            "Epoch: 6/30.. Training Loss: 0.306.. Test Loss: 0.368.. Test Accuracy: 0.006.. Accuracy: 87.5%\n",
            "Epoch: 7/30.. Training Loss: 0.290.. Test Loss: 0.376.. Test Accuracy: 0.005.. Accuracy: 81.25%\n",
            "Epoch: 8/30.. Training Loss: 0.283.. Test Loss: 0.378.. Test Accuracy: 0.006.. Accuracy: 87.5%\n",
            "Epoch: 9/30.. Training Loss: 0.274.. Test Loss: 0.374.. Test Accuracy: 0.005.. Accuracy: 75.0%\n",
            "Epoch: 10/30.. Training Loss: 0.264.. Test Loss: 0.406.. Test Accuracy: 0.005.. Accuracy: 75.0%\n",
            "Epoch: 11/30.. Training Loss: 0.259.. Test Loss: 0.380.. Test Accuracy: 0.004.. Accuracy: 62.5%\n",
            "Epoch: 12/30.. Training Loss: 0.255.. Test Loss: 0.372.. Test Accuracy: 0.006.. Accuracy: 87.5%\n",
            "Epoch: 13/30.. Training Loss: 0.246.. Test Loss: 0.384.. Test Accuracy: 0.005.. Accuracy: 75.0%\n",
            "Epoch: 14/30.. Training Loss: 0.244.. Test Loss: 0.365.. Test Accuracy: 0.006.. Accuracy: 100.0%\n",
            "Epoch: 15/30.. Training Loss: 0.237.. Test Loss: 0.403.. Test Accuracy: 0.006.. Accuracy: 93.75%\n",
            "Epoch: 16/30.. Training Loss: 0.234.. Test Loss: 0.377.. Test Accuracy: 0.004.. Accuracy: 68.75%\n",
            "Epoch: 17/30.. Training Loss: 0.230.. Test Loss: 0.397.. Test Accuracy: 0.006.. Accuracy: 87.5%\n",
            "Epoch: 18/30.. Training Loss: 0.224.. Test Loss: 0.396.. Test Accuracy: 0.006.. Accuracy: 87.5%\n",
            "Epoch: 19/30.. Training Loss: 0.224.. Test Loss: 0.395.. Test Accuracy: 0.005.. Accuracy: 81.25%\n",
            "Epoch: 20/30.. Training Loss: 0.218.. Test Loss: 0.407.. Test Accuracy: 0.006.. Accuracy: 93.75%\n",
            "Epoch: 21/30.. Training Loss: 0.214.. Test Loss: 0.444.. Test Accuracy: 0.006.. Accuracy: 93.75%\n",
            "Epoch: 22/30.. Training Loss: 0.208.. Test Loss: 0.382.. Test Accuracy: 0.006.. Accuracy: 93.75%\n",
            "Epoch: 23/30.. Training Loss: 0.206.. Test Loss: 0.404.. Test Accuracy: 0.006.. Accuracy: 87.5%\n",
            "Epoch: 24/30.. Training Loss: 0.199.. Test Loss: 0.419.. Test Accuracy: 0.005.. Accuracy: 81.25%\n",
            "Epoch: 25/30.. Training Loss: 0.200.. Test Loss: 0.408.. Test Accuracy: 0.005.. Accuracy: 81.25%\n",
            "Epoch: 26/30.. Training Loss: 0.198.. Test Loss: 0.418.. Test Accuracy: 0.006.. Accuracy: 93.75%\n",
            "Epoch: 27/30.. Training Loss: 0.194.. Test Loss: 0.428.. Test Accuracy: 0.005.. Accuracy: 75.0%\n",
            "Epoch: 28/30.. Training Loss: 0.192.. Test Loss: 0.453.. Test Accuracy: 0.005.. Accuracy: 81.25%\n",
            "Epoch: 29/30.. Training Loss: 0.187.. Test Loss: 0.442.. Test Accuracy: 0.006.. Accuracy: 100.0%\n",
            "Epoch: 30/30.. Training Loss: 0.176.. Test Loss: 0.494.. Test Accuracy: 0.005.. Accuracy: 81.25%\n"
          ]
        }
      ],
      "source": [
        "model = Classifier()\n",
        "criterion = nn.NLLLoss()\n",
        "optimizer = optim.Adam(model.parameters(), lr=0.003)\n",
        "\n",
        "epochs = 30\n",
        "steps = 0\n",
        "\n",
        "train_losses, test_losses = [], []\n",
        "for e in range(epochs):\n",
        "    running_loss = 0\n",
        "    for images, labels in trainloader:\n",
        "\n",
        "        optimizer.zero_grad()\n",
        "\n",
        "        log_ps = model(images)\n",
        "        loss = criterion(log_ps, labels)\n",
        "        loss.backward()\n",
        "        optimizer.step()\n",
        "\n",
        "        running_loss += loss.item()\n",
        "\n",
        "    else:\n",
        "        ## TODO: Implement the validation pass and print out the validation accuracy\n",
        "        test_loss = 0\n",
        "        accuracy = 0\n",
        "\n",
        "        with torch.no_grad():\n",
        "            for images, labels in testloader:\n",
        "                #make prediction\n",
        "                log_ps = model(images)\n",
        "                test_loss += criterion(log_ps, labels)\n",
        "\n",
        "                # Get the class probabilities\n",
        "                ps = torch.exp(log_ps)\n",
        "                #use to topk method\n",
        "                top_p, top_class = ps.topk(1, dim=1)\n",
        "                #define equals\n",
        "                equals = top_class == labels.view(*top_class.shape)\n",
        "                #define accuracy\n",
        "                accuracy = torch.mean(equals.type(torch.FloatTensor))\n",
        "\n",
        "        train_losses.append(running_loss/len(trainloader))\n",
        "        test_losses.append(test_loss/len(testloader))\n",
        "\n",
        "        print(\"Epoch: {}/{}..\".format(e+1, epochs),\n",
        "              \"Training Loss: {:.3f}..\".format(running_loss/len(trainloader)),\n",
        "              \"Test Loss: {:.3f}..\".format(test_loss/len(testloader)),\n",
        "              \"Test Accuracy: {:.3f}..\".format(accuracy/len(testloader)),\n",
        "              f'Accuracy: {accuracy.item()*100}%')"
      ]
    },
    {
      "cell_type": "markdown",
      "metadata": {
        "id": "E8_F9WkycaZ7"
      },
      "source": [
        "## Overfitting\n",
        "\n",
        "If we look at the training and validation losses as we train the network, we can see a phenomenon known as overfitting.\n",
        "\n",
        "<img src='assets/overfitting.png' width=450px>\n",
        "\n",
        "The network learns the training set better and better, resulting in lower training losses. However, it starts having problems generalizing to data outside the training set leading to the validation loss increasing. The ultimate goal of any deep learning model is to make predictions on new data, so we should strive to get the lowest validation loss possible. One option is to use the version of the model with the lowest validation loss, here the one around 8-10 training epochs. This strategy is called *early-stopping*. In practice, you'd save the model frequently as you're training then later choose the model with the lowest validation loss.\n",
        "\n",
        "The most common method to reduce overfitting (outside of early-stopping) is *dropout*, where we randomly drop input units. This forces the network to share information between weights, increasing it's ability to generalize to new data. Adding dropout in PyTorch is straightforward using the [`nn.Dropout`](https://pytorch.org/docs/stable/nn.html#torch.nn.Dropout) module.\n",
        "\n",
        "```python\n",
        "class Classifier(nn.Module):\n",
        "    def __init__(self):\n",
        "        super().__init__()\n",
        "        self.fc1 = nn.Linear(784, 256)\n",
        "        self.fc2 = nn.Linear(256, 128)\n",
        "        self.fc3 = nn.Linear(128, 64)\n",
        "        self.fc4 = nn.Linear(64, 10)\n",
        "        \n",
        "        # Dropout module with 0.2 drop probability\n",
        "        self.dropout = nn.Dropout(p=0.2)\n",
        "        \n",
        "    def forward(self, x):\n",
        "        # make sure input tensor is flattened\n",
        "        x = x.view(x.shape[0], -1)\n",
        "        \n",
        "        # Now with dropout\n",
        "        x = self.dropout(F.relu(self.fc1(x)))\n",
        "        x = self.dropout(F.relu(self.fc2(x)))\n",
        "        x = self.dropout(F.relu(self.fc3(x)))\n",
        "        \n",
        "        # output so no dropout here\n",
        "        x = F.log_softmax(self.fc4(x), dim=1)\n",
        "        \n",
        "        return x\n",
        "```\n",
        "\n",
        "During training we want to use dropout to prevent overfitting, but during inference we want to use the entire network. So, we need to turn off dropout during validation, testing, and whenever we're using the network to make predictions. To do this, you use `model.eval()`. This sets the model to evaluation mode where the dropout probability is 0. You can turn dropout back on by setting the model to train mode with `model.train()`. In general, the pattern for the validation loop will look like this, where you turn off gradients, set the model to evaluation mode, calculate the validation loss and metric, then set the model back to train mode.\n",
        "\n",
        "```python\n",
        "# turn off gradients\n",
        "with torch.no_grad():\n",
        "    \n",
        "    # set model to evaluation mode\n",
        "    model.eval()\n",
        "    \n",
        "    # validation pass here\n",
        "    for images, labels in testloader:\n",
        "        ...\n",
        "\n",
        "# set model back to train mode\n",
        "model.train()\n",
        "```"
      ]
    },
    {
      "cell_type": "markdown",
      "metadata": {
        "id": "7ng_uJWBcaZ8"
      },
      "source": [
        "> **Exercise:** Add dropout to your model and train it on Fashion-MNIST again. See if you can get a lower validation loss or higher accuracy."
      ]
    },
    {
      "cell_type": "code",
      "execution_count": 14,
      "metadata": {
        "id": "9mu6pVWDcaZ8"
      },
      "outputs": [],
      "source": [
        "## TODO: Define your model with dropout added\n",
        "class Classifier(nn.Module):\n",
        "    def __init__(self):\n",
        "        super().__init__()\n",
        "        self.fc1 = nn.Linear(784, 256)\n",
        "        self.fc2 = nn.Linear(256, 128)\n",
        "        self.fc3 = nn.Linear(128, 64)\n",
        "        self.fc4 = nn.Linear(64, 10)\n",
        "\n",
        "        # Dropout module with 0.2 drop probability\n",
        "        self.dropout = nn.Dropout(p=0.2)\n",
        "\n",
        "    def forward(self, x):\n",
        "        # make sure input tensor is flattened\n",
        "        x = x.view(x.shape[0], -1)\n",
        "\n",
        "        # Now with dropout\n",
        "        x = self.dropout(F.relu(self.fc1(x)))\n",
        "        x = self.dropout(F.relu(self.fc2(x)))\n",
        "        x = self.dropout(F.relu(self.fc3(x)))\n",
        "\n",
        "        # output so no dropout here\n",
        "        x = F.log_softmax(self.fc4(x), dim=1)\n",
        "\n",
        "        return x"
      ]
    },
    {
      "cell_type": "code",
      "execution_count": 19,
      "metadata": {
        "colab": {
          "base_uri": "https://localhost:8080/"
        },
        "id": "r758jF2xcaZ8",
        "outputId": "7c357fd1-2818-429e-c36f-cf6e2d9cffef"
      },
      "outputs": [
        {
          "output_type": "stream",
          "name": "stdout",
          "text": [
            "Epoch: 1/30.. Training Loss: 1.399.. Test Loss: 0.768.. Test Accuracy: 0.711..\n",
            "Epoch: 2/30.. Training Loss: 0.749.. Test Loss: 0.613.. Test Accuracy: 0.765..\n",
            "Epoch: 3/30.. Training Loss: 0.632.. Test Loss: 0.549.. Test Accuracy: 0.796..\n",
            "Epoch: 4/30.. Training Loss: 0.567.. Test Loss: 0.502.. Test Accuracy: 0.814..\n",
            "Epoch: 5/30.. Training Loss: 0.525.. Test Loss: 0.484.. Test Accuracy: 0.822..\n",
            "Epoch: 6/30.. Training Loss: 0.494.. Test Loss: 0.463.. Test Accuracy: 0.829..\n",
            "Epoch: 7/30.. Training Loss: 0.474.. Test Loss: 0.445.. Test Accuracy: 0.838..\n",
            "Epoch: 8/30.. Training Loss: 0.455.. Test Loss: 0.428.. Test Accuracy: 0.846..\n",
            "Epoch: 9/30.. Training Loss: 0.438.. Test Loss: 0.420.. Test Accuracy: 0.849..\n",
            "Epoch: 10/30.. Training Loss: 0.426.. Test Loss: 0.415.. Test Accuracy: 0.850..\n",
            "Epoch: 11/30.. Training Loss: 0.413.. Test Loss: 0.401.. Test Accuracy: 0.855..\n",
            "Epoch: 12/30.. Training Loss: 0.402.. Test Loss: 0.394.. Test Accuracy: 0.859..\n",
            "Epoch: 13/30.. Training Loss: 0.392.. Test Loss: 0.387.. Test Accuracy: 0.860..\n",
            "Epoch: 14/30.. Training Loss: 0.386.. Test Loss: 0.382.. Test Accuracy: 0.863..\n",
            "Epoch: 15/30.. Training Loss: 0.375.. Test Loss: 0.378.. Test Accuracy: 0.865..\n",
            "Epoch: 16/30.. Training Loss: 0.368.. Test Loss: 0.375.. Test Accuracy: 0.867..\n",
            "Epoch: 17/30.. Training Loss: 0.361.. Test Loss: 0.378.. Test Accuracy: 0.864..\n",
            "Epoch: 18/30.. Training Loss: 0.356.. Test Loss: 0.365.. Test Accuracy: 0.869..\n",
            "Epoch: 19/30.. Training Loss: 0.350.. Test Loss: 0.362.. Test Accuracy: 0.872..\n",
            "Epoch: 20/30.. Training Loss: 0.344.. Test Loss: 0.356.. Test Accuracy: 0.873..\n",
            "Epoch: 21/30.. Training Loss: 0.338.. Test Loss: 0.351.. Test Accuracy: 0.874..\n",
            "Epoch: 22/30.. Training Loss: 0.333.. Test Loss: 0.358.. Test Accuracy: 0.874..\n",
            "Epoch: 23/30.. Training Loss: 0.328.. Test Loss: 0.352.. Test Accuracy: 0.875..\n",
            "Epoch: 24/30.. Training Loss: 0.321.. Test Loss: 0.349.. Test Accuracy: 0.878..\n",
            "Epoch: 25/30.. Training Loss: 0.317.. Test Loss: 0.345.. Test Accuracy: 0.878..\n",
            "Epoch: 26/30.. Training Loss: 0.311.. Test Loss: 0.341.. Test Accuracy: 0.879..\n",
            "Epoch: 27/30.. Training Loss: 0.311.. Test Loss: 0.340.. Test Accuracy: 0.879..\n",
            "Epoch: 28/30.. Training Loss: 0.303.. Test Loss: 0.351.. Test Accuracy: 0.878..\n",
            "Epoch: 29/30.. Training Loss: 0.302.. Test Loss: 0.356.. Test Accuracy: 0.876..\n",
            "Epoch: 30/30.. Training Loss: 0.297.. Test Loss: 0.339.. Test Accuracy: 0.881..\n"
          ]
        }
      ],
      "source": [
        "## TODO: Train your model with dropout, and monitor the training progress with the validation loss and accuracy\n",
        "from torch import optim\n",
        "\n",
        "model = Classifier()\n",
        "\n",
        "criterion = nn.NLLLoss()\n",
        "optimizer = optim.SGD(model.parameters(), lr = 0.01)\n",
        "\n",
        "epochs = 30\n",
        "for e in range(epochs):\n",
        "    running_loss = 0\n",
        "    for images, labels in trainloader:\n",
        "        #flatten the images\n",
        "        images = images.view(images.shape[0], -1)\n",
        "\n",
        "        #training phase\n",
        "        #clear grads\n",
        "        optimizer.zero_grad()\n",
        "        #make prediction\n",
        "        output = model.forward(images)\n",
        "        #calculate loss\n",
        "        loss = criterion(output, labels)\n",
        "        #backpass\n",
        "        loss.backward()\n",
        "        #update weights\n",
        "        optimizer.step()\n",
        "\n",
        "        running_loss += loss.item()\n",
        "    else:\n",
        "        test_loss = 0\n",
        "        accuracy = 0\n",
        "\n",
        "        with torch.no_grad():\n",
        "            # set model to evaluation mode\n",
        "            model.eval()\n",
        "\n",
        "            #validation Pass\n",
        "            for images, labels in testloader:\n",
        "                #make prediction\n",
        "                log_ps = model(images)\n",
        "                test_loss += criterion(log_ps, labels)\n",
        "\n",
        "                # Get the class probabilities\n",
        "                ps = torch.exp(log_ps)\n",
        "                #use to topk method\n",
        "                top_p, top_class = ps.topk(1, dim=1)\n",
        "                #define equals\n",
        "                equals = top_class == labels.view(*top_class.shape)\n",
        "                #define accuracy\n",
        "                accuracy += torch.mean(equals.type(torch.FloatTensor))\n",
        "\n",
        "        model.train()\n",
        "\n",
        "        train_losses.append(running_loss/len(trainloader))\n",
        "        test_losses.append(test_loss/len(testloader))\n",
        "\n",
        "\n",
        "        print(\"Epoch: {}/{}..\".format(e+1, epochs),\n",
        "              \"Training Loss: {:.3f}..\".format(running_loss/len(trainloader)),\n",
        "              \"Test Loss: {:.3f}..\".format(test_loss/len(testloader)),\n",
        "              \"Test Accuracy: {:.3f}..\".format(accuracy/len(testloader))\n",
        "              )"
      ]
    },
    {
      "cell_type": "markdown",
      "metadata": {
        "id": "GwjgWopHcaZ8"
      },
      "source": [
        "## Inference\n",
        "\n",
        "Now that the model is trained, we can use it for inference. We've done this before, but now we need to remember to set the model in inference mode with `model.eval()`. You'll also want to turn off autograd with the `torch.no_grad()` context."
      ]
    },
    {
      "cell_type": "code",
      "execution_count": 1,
      "metadata": {
        "colab": {
          "base_uri": "https://localhost:8080/",
          "height": 246
        },
        "id": "m2vBNLnfcaZ8",
        "outputId": "085a971e-5aa1-4135-fa45-b11b9c99613a"
      },
      "outputs": [
        {
          "output_type": "error",
          "ename": "NameError",
          "evalue": "ignored",
          "traceback": [
            "\u001b[0;31m---------------------------------------------------------------------------\u001b[0m",
            "\u001b[0;31mNameError\u001b[0m                                 Traceback (most recent call last)",
            "\u001b[0;32m<ipython-input-1-c1e1eaaf6d9b>\u001b[0m in \u001b[0;36m<cell line: 6>\u001b[0;34m()\u001b[0m\n\u001b[1;32m      4\u001b[0m \u001b[0;31m# Test out your network!\u001b[0m\u001b[0;34m\u001b[0m\u001b[0;34m\u001b[0m\u001b[0m\n\u001b[1;32m      5\u001b[0m \u001b[0;34m\u001b[0m\u001b[0m\n\u001b[0;32m----> 6\u001b[0;31m \u001b[0mmodel\u001b[0m\u001b[0;34m.\u001b[0m\u001b[0meval\u001b[0m\u001b[0;34m(\u001b[0m\u001b[0;34m)\u001b[0m\u001b[0;34m\u001b[0m\u001b[0;34m\u001b[0m\u001b[0m\n\u001b[0m\u001b[1;32m      7\u001b[0m \u001b[0;34m\u001b[0m\u001b[0m\n\u001b[1;32m      8\u001b[0m \u001b[0mdataiter\u001b[0m \u001b[0;34m=\u001b[0m \u001b[0miter\u001b[0m\u001b[0;34m(\u001b[0m\u001b[0mtestloader\u001b[0m\u001b[0;34m)\u001b[0m\u001b[0;34m\u001b[0m\u001b[0;34m\u001b[0m\u001b[0m\n",
            "\u001b[0;31mNameError\u001b[0m: name 'model' is not defined"
          ]
        }
      ],
      "source": [
        "# Import helper module (should be in the repo)\n",
        "import helper\n",
        "\n",
        "# Test out your network!\n",
        "\n",
        "model.eval()\n",
        "\n",
        "dataiter = iter(testloader)\n",
        "images, labels = next(dataiter)\n",
        "img = images[0]\n",
        "# Convert 2D image to 1D vector\n",
        "img = img.view(1, 784)\n",
        "\n",
        "# Calculate the class probabilities (softmax) for img\n",
        "with torch.no_grad():\n",
        "    output = model.forward(img)\n",
        "\n",
        "ps = torch.exp(output)\n",
        "\n",
        "# Plot the image and probabilities\n",
        "helper.view_classify(img.view(1, 28, 28), ps, version='Fashion')"
      ]
    },
    {
      "cell_type": "markdown",
      "metadata": {
        "id": "oqsmbP1kcaZ9"
      },
      "source": [
        "## Next Up!\n",
        "\n",
        "In the next part, I'll show you how to save your trained models. In general, you won't want to train a model everytime you need it. Instead, you'll train once, save it, then load the model when you want to train more or use if for inference."
      ]
    }
  ],
  "metadata": {
    "kernelspec": {
      "display_name": "Python 3",
      "language": "python",
      "name": "python3"
    },
    "language_info": {
      "codemirror_mode": {
        "name": "ipython",
        "version": 3
      },
      "file_extension": ".py",
      "mimetype": "text/x-python",
      "name": "python",
      "nbconvert_exporter": "python",
      "pygments_lexer": "ipython3",
      "version": "3.6.6"
    },
    "colab": {
      "provenance": [],
      "include_colab_link": true
    }
  },
  "nbformat": 4,
  "nbformat_minor": 0
}